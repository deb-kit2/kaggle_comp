{
  "nbformat": 4,
  "nbformat_minor": 0,
  "metadata": {
    "colab": {
      "name": "plant_pathology_transfer.ipynb",
      "provenance": [],
      "collapsed_sections": []
    },
    "kernelspec": {
      "name": "python3",
      "display_name": "Python 3"
    }
  },
  "cells": [
    {
      "cell_type": "code",
      "metadata": {
        "id": "QQUmGSlU0GNH",
        "colab_type": "code",
        "colab": {}
      },
      "source": [
        "from google.colab import drive\n",
        "drive.mount(\"/content/drive\")\n",
        "import os\n",
        "os.chdir(\"/content/drive/My Drive/plant_pathology_kaggle\")"
      ],
      "execution_count": 0,
      "outputs": []
    },
    {
      "cell_type": "markdown",
      "metadata": {
        "id": "r09YPd1s2WEM",
        "colab_type": "text"
      },
      "source": [
        "##Preprocessing"
      ]
    },
    {
      "cell_type": "code",
      "metadata": {
        "id": "C8uSNYBE0ZbY",
        "colab_type": "code",
        "colab": {}
      },
      "source": [
        "import numpy as np\n",
        "import pandas as pd\n",
        "\n",
        "sam_sub = pd.read_csv('sample_submission.csv')\n",
        "train_csv = pd.read_csv('train.csv')\n",
        "test_csv = pd.read_csv('test.csv')\n",
        "\n",
        "def get_class(row): \n",
        "  if row['multiple_diseases'] == 1: \n",
        "    return 'multiple_diseases' \n",
        "  elif row['rust'] == 1: \n",
        "    return 'rust' \n",
        "  elif row['scab'] == 1: \n",
        "    return 'scab' \n",
        "  else: \n",
        "    return 'healthy' \n",
        "    \n",
        "train_csv[\"label\"] = train_csv.apply(get_class, axis=1) \n",
        "#train_csv.head()\n",
        "temp = pd.factorize(train_csv[\"label\"])\n",
        "train_csv[\"label\"] = temp[0]\n",
        "\n",
        "train_csv.head()"
      ],
      "execution_count": 0,
      "outputs": []
    },
    {
      "cell_type": "code",
      "metadata": {
        "id": "q_IQz_mK0eEO",
        "colab_type": "code",
        "colab": {}
      },
      "source": [
        "y = train_csv[\"label\"]\n",
        "\n",
        "from keras.utils import to_categorical\n",
        "y = to_categorical(y, 4)"
      ],
      "execution_count": 0,
      "outputs": []
    },
    {
      "cell_type": "code",
      "metadata": {
        "id": "l0dXlBTK0kFX",
        "colab_type": "code",
        "colab": {}
      },
      "source": [
        "path = '/content/drive/My Drive/plant_pathology_kaggle/images/'\n",
        "image_list = os.listdir(path)\n",
        "\n",
        "train_images = train_csv[\"image_id\"]\n",
        "test_images = test_csv[\"image_id\"]\n",
        "\n",
        "train_images = np.asarray(train_images) + \".jpg\"\n",
        "test_images = np.asarray(test_images) + \".jpg\""
      ],
      "execution_count": 0,
      "outputs": []
    },
    {
      "cell_type": "code",
      "metadata": {
        "id": "uMxxmm9D0tXU",
        "colab_type": "code",
        "colab": {}
      },
      "source": [
        "image_height = 256\n",
        "image_width = 256\n",
        "channels = 3\n",
        "\n",
        "import cv2\n",
        "xtrain = np.zeros((len(y), image_height, image_width, channels))\n",
        "xtest = np.zeros((len(y), image_height, image_width, channels))\n",
        "\n",
        "for i in range(len(y)):\n",
        "  imgtrain = train_images[i]\n",
        "  imgtest = test_images[i]\n",
        "  #path = '/content/drive/My Drive/plant_pathology_kaggle/images/' + img\n",
        "  img = cv2.imread('/content/drive/My Drive/plant_pathology_kaggle/images/'+imgtrain)\n",
        "  img = cv2.cvtColor(img, cv2.COLOR_BGR2RGB)\n",
        "  img = cv2.resize(img, (image_height, image_width))\n",
        "  xtrain[i] = img\n",
        "  img = cv2.imread('/content/drive/My Drive/plant_pathology_kaggle/images/'+imgtest)\n",
        "  img = cv2.cvtColor(img, cv2.COLOR_BGR2RGB)\n",
        "  img = cv2.resize(img, (image_height, image_width))\n",
        "  xtest[i] = img\n",
        "\n",
        "xtrain /= 255.0\n",
        "ytrain /= 255.0"
      ],
      "execution_count": 0,
      "outputs": []
    },
    {
      "cell_type": "code",
      "metadata": {
        "id": "l1OpheEF07VS",
        "colab_type": "code",
        "colab": {}
      },
      "source": [
        "from sklearn.model_selection import train_test_split\n",
        "xtrain, xcv, ytrain, ycv = train_test_split(xtrain, y, test_size = 0.1, random_state = 267)"
      ],
      "execution_count": 0,
      "outputs": []
    },
    {
      "cell_type": "markdown",
      "metadata": {
        "id": "qNM65Jdi2dXM",
        "colab_type": "text"
      },
      "source": [
        "##Upsampling, none right now"
      ]
    },
    {
      "cell_type": "code",
      "metadata": {
        "id": "4CwbXSTr2i87",
        "colab_type": "code",
        "colab": {}
      },
      "source": [
        ""
      ],
      "execution_count": 0,
      "outputs": []
    },
    {
      "cell_type": "markdown",
      "metadata": {
        "id": "bfcMYTtn0-Y5",
        "colab_type": "text"
      },
      "source": [
        "## Models to try : (without upsampling, first)\n",
        "i. EfficientNetB7\n",
        "ii. DenseNet201\n",
        "iii. VGG16\n",
        "iv. ResNet\n",
        "v. MobileNet\n"
      ]
    },
    {
      "cell_type": "code",
      "metadata": {
        "id": "qKuRx8dM096O",
        "colab_type": "code",
        "colab": {}
      },
      "source": [
        ""
      ],
      "execution_count": 0,
      "outputs": []
    },
    {
      "cell_type": "markdown",
      "metadata": {
        "id": "ZHuW5NQo2ZY3",
        "colab_type": "text"
      },
      "source": [
        "##Predictions"
      ]
    },
    {
      "cell_type": "code",
      "metadata": {
        "id": "xb1Mf6p42TU_",
        "colab_type": "code",
        "colab": {}
      },
      "source": [
        "from keras.models import load_model\n",
        "model = load_model(\"/content/saved.h5\")\n",
        "\n",
        "preds = model.predict(xtest)\n",
        "#predcitions = np.argmax(predictions)"
      ],
      "execution_count": 0,
      "outputs": []
    }
  ]
}