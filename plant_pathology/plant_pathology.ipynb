{
  "nbformat": 4,
  "nbformat_minor": 0,
  "metadata": {
    "colab": {
      "name": "plant_pathology.ipynb",
      "provenance": [],
      "collapsed_sections": [],
      "machine_shape": "hm"
    },
    "kernelspec": {
      "name": "python3",
      "display_name": "Python 3"
    }
  },
  "cells": [
    {
      "cell_type": "code",
      "metadata": {
        "id": "t1y6yQuFGe0H",
        "colab_type": "code",
        "outputId": "3f03a5fe-ed4f-4853-e780-74b238437770",
        "colab": {
          "base_uri": "https://localhost:8080/",
          "height": 54
        }
      },
      "source": [
        "from google.colab import drive\n",
        "drive.mount(\"/content/drive\")\n",
        "import os\n",
        "os.chdir(\"/content/drive/My Drive/plant_pathology_kaggle\")"
      ],
      "execution_count": 0,
      "outputs": [
        {
          "output_type": "stream",
          "text": [
            "Drive already mounted at /content/drive; to attempt to forcibly remount, call drive.mount(\"/content/drive\", force_remount=True).\n"
          ],
          "name": "stdout"
        }
      ]
    },
    {
      "cell_type": "code",
      "metadata": {
        "id": "wfF69T_vII5v",
        "colab_type": "code",
        "colab": {}
      },
      "source": [
        "import numpy as np\n",
        "import pandas as pd\n",
        "\n",
        "sam_sub = pd.read_csv('sample_submission.csv')\n",
        "train_csv = pd.read_csv('train.csv')\n",
        "test_csv = pd.read_csv('test.csv')"
      ],
      "execution_count": 0,
      "outputs": []
    },
    {
      "cell_type": "code",
      "metadata": {
        "id": "oLspOwtTY4W3",
        "colab_type": "code",
        "outputId": "cc93e335-663b-4e18-94da-06b0528aa15e",
        "colab": {
          "base_uri": "https://localhost:8080/",
          "height": 204
        }
      },
      "source": [
        "train_csv.head()"
      ],
      "execution_count": 0,
      "outputs": [
        {
          "output_type": "execute_result",
          "data": {
            "text/html": [
              "<div>\n",
              "<style scoped>\n",
              "    .dataframe tbody tr th:only-of-type {\n",
              "        vertical-align: middle;\n",
              "    }\n",
              "\n",
              "    .dataframe tbody tr th {\n",
              "        vertical-align: top;\n",
              "    }\n",
              "\n",
              "    .dataframe thead th {\n",
              "        text-align: right;\n",
              "    }\n",
              "</style>\n",
              "<table border=\"1\" class=\"dataframe\">\n",
              "  <thead>\n",
              "    <tr style=\"text-align: right;\">\n",
              "      <th></th>\n",
              "      <th>image_id</th>\n",
              "      <th>healthy</th>\n",
              "      <th>multiple_diseases</th>\n",
              "      <th>rust</th>\n",
              "      <th>scab</th>\n",
              "    </tr>\n",
              "  </thead>\n",
              "  <tbody>\n",
              "    <tr>\n",
              "      <th>0</th>\n",
              "      <td>Train_0</td>\n",
              "      <td>0</td>\n",
              "      <td>0</td>\n",
              "      <td>0</td>\n",
              "      <td>1</td>\n",
              "    </tr>\n",
              "    <tr>\n",
              "      <th>1</th>\n",
              "      <td>Train_1</td>\n",
              "      <td>0</td>\n",
              "      <td>1</td>\n",
              "      <td>0</td>\n",
              "      <td>0</td>\n",
              "    </tr>\n",
              "    <tr>\n",
              "      <th>2</th>\n",
              "      <td>Train_2</td>\n",
              "      <td>1</td>\n",
              "      <td>0</td>\n",
              "      <td>0</td>\n",
              "      <td>0</td>\n",
              "    </tr>\n",
              "    <tr>\n",
              "      <th>3</th>\n",
              "      <td>Train_3</td>\n",
              "      <td>0</td>\n",
              "      <td>0</td>\n",
              "      <td>1</td>\n",
              "      <td>0</td>\n",
              "    </tr>\n",
              "    <tr>\n",
              "      <th>4</th>\n",
              "      <td>Train_4</td>\n",
              "      <td>1</td>\n",
              "      <td>0</td>\n",
              "      <td>0</td>\n",
              "      <td>0</td>\n",
              "    </tr>\n",
              "  </tbody>\n",
              "</table>\n",
              "</div>"
            ],
            "text/plain": [
              "  image_id  healthy  multiple_diseases  rust  scab\n",
              "0  Train_0        0                  0     0     1\n",
              "1  Train_1        0                  1     0     0\n",
              "2  Train_2        1                  0     0     0\n",
              "3  Train_3        0                  0     1     0\n",
              "4  Train_4        1                  0     0     0"
            ]
          },
          "metadata": {
            "tags": []
          },
          "execution_count": 3
        }
      ]
    },
    {
      "cell_type": "code",
      "metadata": {
        "id": "-CwyCE43aAvK",
        "colab_type": "code",
        "outputId": "e5ac78df-ae32-4a8d-b54f-c4a3b11b13f3",
        "colab": {
          "base_uri": "https://localhost:8080/",
          "height": 204
        }
      },
      "source": [
        "def get_class(row): \n",
        "  if row['multiple_diseases'] == 1: \n",
        "    return 'multiple_diseases' \n",
        "  elif row['rust'] == 1: \n",
        "    return 'rust' \n",
        "  elif row['scab'] == 1: \n",
        "    return 'scab' \n",
        "  else: \n",
        "    return 'healthy' \n",
        "    \n",
        "train_csv[\"label\"] = train_csv.apply(get_class, axis=1) \n",
        "#train_csv.head()\n",
        "temp = pd.factorize(train_csv[\"label\"])\n",
        "train_csv[\"label\"] = temp[0]\n",
        "\n",
        "train_csv.head()"
      ],
      "execution_count": 0,
      "outputs": [
        {
          "output_type": "execute_result",
          "data": {
            "text/html": [
              "<div>\n",
              "<style scoped>\n",
              "    .dataframe tbody tr th:only-of-type {\n",
              "        vertical-align: middle;\n",
              "    }\n",
              "\n",
              "    .dataframe tbody tr th {\n",
              "        vertical-align: top;\n",
              "    }\n",
              "\n",
              "    .dataframe thead th {\n",
              "        text-align: right;\n",
              "    }\n",
              "</style>\n",
              "<table border=\"1\" class=\"dataframe\">\n",
              "  <thead>\n",
              "    <tr style=\"text-align: right;\">\n",
              "      <th></th>\n",
              "      <th>image_id</th>\n",
              "      <th>healthy</th>\n",
              "      <th>multiple_diseases</th>\n",
              "      <th>rust</th>\n",
              "      <th>scab</th>\n",
              "      <th>label</th>\n",
              "    </tr>\n",
              "  </thead>\n",
              "  <tbody>\n",
              "    <tr>\n",
              "      <th>0</th>\n",
              "      <td>Train_0</td>\n",
              "      <td>0</td>\n",
              "      <td>0</td>\n",
              "      <td>0</td>\n",
              "      <td>1</td>\n",
              "      <td>0</td>\n",
              "    </tr>\n",
              "    <tr>\n",
              "      <th>1</th>\n",
              "      <td>Train_1</td>\n",
              "      <td>0</td>\n",
              "      <td>1</td>\n",
              "      <td>0</td>\n",
              "      <td>0</td>\n",
              "      <td>1</td>\n",
              "    </tr>\n",
              "    <tr>\n",
              "      <th>2</th>\n",
              "      <td>Train_2</td>\n",
              "      <td>1</td>\n",
              "      <td>0</td>\n",
              "      <td>0</td>\n",
              "      <td>0</td>\n",
              "      <td>2</td>\n",
              "    </tr>\n",
              "    <tr>\n",
              "      <th>3</th>\n",
              "      <td>Train_3</td>\n",
              "      <td>0</td>\n",
              "      <td>0</td>\n",
              "      <td>1</td>\n",
              "      <td>0</td>\n",
              "      <td>3</td>\n",
              "    </tr>\n",
              "    <tr>\n",
              "      <th>4</th>\n",
              "      <td>Train_4</td>\n",
              "      <td>1</td>\n",
              "      <td>0</td>\n",
              "      <td>0</td>\n",
              "      <td>0</td>\n",
              "      <td>2</td>\n",
              "    </tr>\n",
              "  </tbody>\n",
              "</table>\n",
              "</div>"
            ],
            "text/plain": [
              "  image_id  healthy  multiple_diseases  rust  scab  label\n",
              "0  Train_0        0                  0     0     1      0\n",
              "1  Train_1        0                  1     0     0      1\n",
              "2  Train_2        1                  0     0     0      2\n",
              "3  Train_3        0                  0     1     0      3\n",
              "4  Train_4        1                  0     0     0      2"
            ]
          },
          "metadata": {
            "tags": []
          },
          "execution_count": 4
        }
      ]
    },
    {
      "cell_type": "code",
      "metadata": {
        "id": "rlU_7tD1abwA",
        "colab_type": "code",
        "outputId": "48e4d2fb-cd6d-447e-9882-07371c5ed964",
        "colab": {
          "base_uri": "https://localhost:8080/",
          "height": 199
        }
      },
      "source": [
        "reference_map = {\"scab\" : 0, \"multiple_diseases\" : 1, \"healthy\" : 2, \"rust\" : 3}\n",
        "y = train_csv[\"label\"]\n",
        "\n",
        "from keras.utils import to_categorical\n",
        "y = to_categorical(y, 4)\n",
        "y"
      ],
      "execution_count": 0,
      "outputs": [
        {
          "output_type": "stream",
          "text": [
            "Using TensorFlow backend.\n"
          ],
          "name": "stderr"
        },
        {
          "output_type": "display_data",
          "data": {
            "text/html": [
              "<p style=\"color: red;\">\n",
              "The default version of TensorFlow in Colab will soon switch to TensorFlow 2.x.<br>\n",
              "We recommend you <a href=\"https://www.tensorflow.org/guide/migrate\" target=\"_blank\">upgrade</a> now \n",
              "or ensure your notebook will continue to use TensorFlow 1.x via the <code>%tensorflow_version 1.x</code> magic:\n",
              "<a href=\"https://colab.research.google.com/notebooks/tensorflow_version.ipynb\" target=\"_blank\">more info</a>.</p>\n"
            ],
            "text/plain": [
              "<IPython.core.display.HTML object>"
            ]
          },
          "metadata": {
            "tags": []
          }
        },
        {
          "output_type": "execute_result",
          "data": {
            "text/plain": [
              "array([[1., 0., 0., 0.],\n",
              "       [0., 1., 0., 0.],\n",
              "       [0., 0., 1., 0.],\n",
              "       ...,\n",
              "       [0., 0., 1., 0.],\n",
              "       [0., 0., 0., 1.],\n",
              "       [1., 0., 0., 0.]], dtype=float32)"
            ]
          },
          "metadata": {
            "tags": []
          },
          "execution_count": 5
        }
      ]
    },
    {
      "cell_type": "code",
      "metadata": {
        "id": "g9fwjtEebUA4",
        "colab_type": "code",
        "outputId": "c37009b7-4f87-44a0-a507-a720eed992c2",
        "colab": {
          "base_uri": "https://localhost:8080/",
          "height": 204
        }
      },
      "source": [
        "test_csv.head()"
      ],
      "execution_count": 0,
      "outputs": [
        {
          "output_type": "execute_result",
          "data": {
            "text/html": [
              "<div>\n",
              "<style scoped>\n",
              "    .dataframe tbody tr th:only-of-type {\n",
              "        vertical-align: middle;\n",
              "    }\n",
              "\n",
              "    .dataframe tbody tr th {\n",
              "        vertical-align: top;\n",
              "    }\n",
              "\n",
              "    .dataframe thead th {\n",
              "        text-align: right;\n",
              "    }\n",
              "</style>\n",
              "<table border=\"1\" class=\"dataframe\">\n",
              "  <thead>\n",
              "    <tr style=\"text-align: right;\">\n",
              "      <th></th>\n",
              "      <th>image_id</th>\n",
              "    </tr>\n",
              "  </thead>\n",
              "  <tbody>\n",
              "    <tr>\n",
              "      <th>0</th>\n",
              "      <td>Test_0</td>\n",
              "    </tr>\n",
              "    <tr>\n",
              "      <th>1</th>\n",
              "      <td>Test_1</td>\n",
              "    </tr>\n",
              "    <tr>\n",
              "      <th>2</th>\n",
              "      <td>Test_2</td>\n",
              "    </tr>\n",
              "    <tr>\n",
              "      <th>3</th>\n",
              "      <td>Test_3</td>\n",
              "    </tr>\n",
              "    <tr>\n",
              "      <th>4</th>\n",
              "      <td>Test_4</td>\n",
              "    </tr>\n",
              "  </tbody>\n",
              "</table>\n",
              "</div>"
            ],
            "text/plain": [
              "  image_id\n",
              "0   Test_0\n",
              "1   Test_1\n",
              "2   Test_2\n",
              "3   Test_3\n",
              "4   Test_4"
            ]
          },
          "metadata": {
            "tags": []
          },
          "execution_count": 6
        }
      ]
    },
    {
      "cell_type": "code",
      "metadata": {
        "id": "H1EQEzuWayzN",
        "colab_type": "code",
        "colab": {}
      },
      "source": [
        "path = '/content/drive/My Drive/plant_pathology_kaggle/images/'\n",
        "image_list = os.listdir(path)\n",
        "\n",
        "train_images = train_csv[\"image_id\"]\n",
        "test_images = test_csv[\"image_id\"]\n",
        "\n",
        "train_images = np.asarray(train_images) + \".jpg\"\n",
        "test_images = np.asarray(test_images) + \".jpg\""
      ],
      "execution_count": 0,
      "outputs": []
    },
    {
      "cell_type": "code",
      "metadata": {
        "id": "G0RitlPVdRee",
        "colab_type": "code",
        "outputId": "19c1331a-adbf-4f1a-b58d-45ed3a9e00d2",
        "colab": {
          "base_uri": "https://localhost:8080/",
          "height": 51
        }
      },
      "source": [
        "train_images"
      ],
      "execution_count": 0,
      "outputs": [
        {
          "output_type": "execute_result",
          "data": {
            "text/plain": [
              "array(['Train_0.jpg', 'Train_1.jpg', 'Train_2.jpg', ..., 'Train_1818.jpg',\n",
              "       'Train_1819.jpg', 'Train_1820.jpg'], dtype=object)"
            ]
          },
          "metadata": {
            "tags": []
          },
          "execution_count": 8
        }
      ]
    },
    {
      "cell_type": "code",
      "metadata": {
        "id": "W5k0_E5kb6Ps",
        "colab_type": "code",
        "outputId": "cae75b92-4742-4d3f-be10-9299e727090c",
        "colab": {
          "base_uri": "https://localhost:8080/",
          "height": 54
        }
      },
      "source": [
        "image_height = 150\n",
        "image_width = 150\n",
        "channels = 3\n",
        "\n",
        "import cv2\n",
        "xtrain = np.zeros((len(y), image_height, image_width, channels))\n",
        "xtest = np.zeros((len(y), image_height, image_width, channels))\n",
        "\n",
        "for i in range(len(y)):\n",
        "  imgtrain = train_images[i]\n",
        "  imgtest = test_images[i]\n",
        "  #path = '/content/drive/My Drive/plant_pathology_kaggle/images/' + img\n",
        "  img = cv2.imread('/content/drive/My Drive/plant_pathology_kaggle/images/'+imgtrain)\n",
        "  img = cv2.cvtColor(img, cv2.COLOR_BGR2RGB)\n",
        "  img = cv2.resize(img, (image_height, image_width))\n",
        "  xtrain[i] = img\n",
        "  img = cv2.imread('/content/drive/My Drive/plant_pathology_kaggle/images/'+imgtest)\n",
        "  img = cv2.cvtColor(img, cv2.COLOR_BGR2RGB)\n",
        "  img = cv2.resize(img, (image_height, image_width))\n",
        "  xtest[i] = img\n",
        "\n",
        "\"\"\"\n",
        "for i in range(len(y)):\n",
        "  img = test_images[i]\n",
        "  path = '/content/drive/My Drive/plant_pathology_kaggle/images/' + img\n",
        "  img = cv2.imread(path)\n",
        "  img = cv2.cvtColor(img, cv2.COLOR_BGR2RGB)\n",
        "  img = cv2.resize(img, (image_height, image_width))\n",
        "  xtest[i] = img\n",
        "\"\"\""
      ],
      "execution_count": 0,
      "outputs": [
        {
          "output_type": "execute_result",
          "data": {
            "text/plain": [
              "\"\\nfor i in range(len(y)):\\n  img = test_images[i]\\n  path = '/content/drive/My Drive/plant_pathology_kaggle/images/' + img\\n  img = cv2.imread(path)\\n  img = cv2.cvtColor(img, cv2.COLOR_BGR2RGB)\\n  img = cv2.resize(img, (image_height, image_width))\\n  xtest[i] = img\\n\""
            ]
          },
          "metadata": {
            "tags": []
          },
          "execution_count": 9
        }
      ]
    },
    {
      "cell_type": "code",
      "metadata": {
        "id": "EJChdIYWeCsf",
        "colab_type": "code",
        "outputId": "6888460d-e9df-4398-9ef8-2aa4067c2b91",
        "colab": {
          "base_uri": "https://localhost:8080/",
          "height": 51
        }
      },
      "source": [
        "print(xtrain.shape)\n",
        "print(xtest.shape)"
      ],
      "execution_count": 0,
      "outputs": [
        {
          "output_type": "stream",
          "text": [
            "(1821, 150, 150, 3)\n",
            "(1821, 150, 150, 3)\n"
          ],
          "name": "stdout"
        }
      ]
    },
    {
      "cell_type": "code",
      "metadata": {
        "id": "iFSyaeG2hSpO",
        "colab_type": "code",
        "colab": {}
      },
      "source": [
        "xtrain /= 255\n",
        "xtest /= 255"
      ],
      "execution_count": 0,
      "outputs": []
    },
    {
      "cell_type": "code",
      "metadata": {
        "id": "tDxiFVcph42m",
        "colab_type": "code",
        "colab": {}
      },
      "source": [
        "from sklearn.model_selection import train_test_split\n",
        "xtrain, xcv, ytrain, ycv = train_test_split(xtrain, y, test_size = 0.1, random_state = 267)"
      ],
      "execution_count": 0,
      "outputs": []
    },
    {
      "cell_type": "markdown",
      "metadata": {
        "id": "FREO0ZHdjSIP",
        "colab_type": "text"
      },
      "source": [
        "####Thats all basic pre-procesing.\n",
        "Things to try next : \n",
        "  #i. upsample multiple_diseases class\n",
        "  #ii. augment images\n",
        "  #iii. transfer learning\n",
        "  #iv. without reshaping "
      ]
    },
    {
      "cell_type": "code",
      "metadata": {
        "id": "AhM9IazpjOmp",
        "colab_type": "code",
        "outputId": "8a0ea334-d218-4a6d-ed76-656181db0200",
        "colab": {
          "base_uri": "https://localhost:8080/",
          "height": 258
        }
      },
      "source": [
        "from keras.layers import Conv2D, MaxPool2D, Dropout, Flatten, Dense\n",
        "from keras import models\n",
        "\n",
        "model = models.Sequential()\n",
        "model.add(Conv2D(filters = 32, kernel_size = (3,3), padding = \"same\", \n",
        "                 activation = \"relu\", input_shape = (image_height, image_width, channels)))\n",
        "model.add(MaxPool2D(pool_size=(2,2)))\n",
        "#model.add(MaxPool2D(pool_size=(2,2)))\n",
        "#model.add(Dropout(0.25))\n",
        "\n",
        "model.add(Conv2D(filters = 64, kernel_size = (3,3),padding = \"same\", \n",
        "                 activation ='relu'))\n",
        "model.add(MaxPool2D(pool_size=(2,2)))\n",
        "#model.add(MaxPool2D(pool_size=(2,2)))\n",
        "#model.add(Dropout(0.25))\n",
        "\n",
        "\n",
        "model.add(Conv2D(filters = 128, kernel_size = (3,3),padding = \"same\", \n",
        "                 activation ='relu'))\n",
        "model.add(MaxPool2D(pool_size=(2,2)))\n",
        "#model.add(Dropout(0.25))\n",
        "\n",
        "model.add(Conv2D(filters = 128, kernel_size = (3,3),padding = \"same\", \n",
        "                 activation ='relu'))\n",
        "model.add(MaxPool2D(pool_size=(2,2)))\n",
        "#model.add(Dropout(0.25))\n",
        "\n",
        "#model.add(Conv2D(filters = 256, kernel_size = (3,3),padding = \"same\", \n",
        "#                 activation ='relu'))\n",
        "#model.add(MaxPool2D(pool_size=(2,2), strides=(2,2)))\n",
        "#model.add(Dropout(0.25))\n",
        "\n",
        "#model.add(Conv2D(filters = 512, kernel_size = (3,3),padding = \"same\", \n",
        "#                 activation ='relu'))\n",
        "#model.add(MaxPool2D(pool_size=(2,2), strides=(2,2)))\n",
        "\n",
        "model.add(Dropout(0.25))\n",
        "model.add(Flatten())\n",
        "model.add(Dense(512, activation = \"relu\"))\n",
        "#model.add(Dropout(0.5))\n",
        "model.add(Dense(4, activation = \"softmax\"))"
      ],
      "execution_count": 0,
      "outputs": [
        {
          "output_type": "stream",
          "text": [
            "WARNING:tensorflow:From /usr/local/lib/python3.6/dist-packages/keras/backend/tensorflow_backend.py:66: The name tf.get_default_graph is deprecated. Please use tf.compat.v1.get_default_graph instead.\n",
            "\n",
            "WARNING:tensorflow:From /usr/local/lib/python3.6/dist-packages/keras/backend/tensorflow_backend.py:541: The name tf.placeholder is deprecated. Please use tf.compat.v1.placeholder instead.\n",
            "\n",
            "WARNING:tensorflow:From /usr/local/lib/python3.6/dist-packages/keras/backend/tensorflow_backend.py:4432: The name tf.random_uniform is deprecated. Please use tf.random.uniform instead.\n",
            "\n",
            "WARNING:tensorflow:From /usr/local/lib/python3.6/dist-packages/keras/backend/tensorflow_backend.py:4267: The name tf.nn.max_pool is deprecated. Please use tf.nn.max_pool2d instead.\n",
            "\n",
            "WARNING:tensorflow:From /usr/local/lib/python3.6/dist-packages/keras/backend/tensorflow_backend.py:148: The name tf.placeholder_with_default is deprecated. Please use tf.compat.v1.placeholder_with_default instead.\n",
            "\n",
            "WARNING:tensorflow:From /usr/local/lib/python3.6/dist-packages/keras/backend/tensorflow_backend.py:3733: calling dropout (from tensorflow.python.ops.nn_ops) with keep_prob is deprecated and will be removed in a future version.\n",
            "Instructions for updating:\n",
            "Please use `rate` instead of `keep_prob`. Rate should be set to `rate = 1 - keep_prob`.\n"
          ],
          "name": "stdout"
        }
      ]
    },
    {
      "cell_type": "code",
      "metadata": {
        "id": "x5UI4e09nG-K",
        "colab_type": "code",
        "outputId": "e475ef3d-62a0-46fe-a762-dbd1750edd42",
        "colab": {
          "base_uri": "https://localhost:8080/",
          "height": 105
        }
      },
      "source": [
        "from keras.optimizers import RMSprop\n",
        "opti = RMSprop(lr = 1e-4)\n",
        "model.compile(optimizer = opti, loss = \"categorical_crossentropy\", metrics = [\"accuracy\"])\n",
        "\n",
        "from keras.callbacks import ReduceLROnPlateau\n",
        "learning_rate_reduction = ReduceLROnPlateau(monitor='val_acc', patience=3, \n",
        "                                            verbose=1, factor=0.5, min_lr=0.00001)\n",
        "\n",
        "from keras.callbacks import ModelCheckpoint\n",
        "checkpoint = ModelCheckpoint(filepath = \"/content/aug_train.h5\", \n",
        "                             save_best_only = True, monitor = \"val_loss\",\n",
        "                             verbose = 1)"
      ],
      "execution_count": 0,
      "outputs": [
        {
          "output_type": "stream",
          "text": [
            "WARNING:tensorflow:From /usr/local/lib/python3.6/dist-packages/keras/optimizers.py:793: The name tf.train.Optimizer is deprecated. Please use tf.compat.v1.train.Optimizer instead.\n",
            "\n",
            "WARNING:tensorflow:From /usr/local/lib/python3.6/dist-packages/keras/backend/tensorflow_backend.py:3576: The name tf.log is deprecated. Please use tf.math.log instead.\n",
            "\n"
          ],
          "name": "stdout"
        }
      ]
    },
    {
      "cell_type": "code",
      "metadata": {
        "id": "xovH2SZ-UgYC",
        "colab_type": "code",
        "colab": {}
      },
      "source": [
        "from keras.preprocessing.image import ImageDataGenerator\n",
        "\n",
        "datagen = ImageDataGenerator(rotation_range = 45, width_shift_range = 0.2, height_shift_range = 0.2,\n",
        "                             zoom_range = 0.2, horizontal_flip = True, vertical_flip = True)\n",
        "\n",
        "datagen.fit(xtrain)\n",
        "\n",
        "train_size = len(ytrain)"
      ],
      "execution_count": 0,
      "outputs": []
    },
    {
      "cell_type": "code",
      "metadata": {
        "id": "TdWLol8on9sk",
        "colab_type": "code",
        "outputId": "04899e0e-59ad-45b7-df12-0d8eeccc899b",
        "colab": {
          "base_uri": "https://localhost:8080/",
          "height": 1000
        }
      },
      "source": [
        "history = model.fit_generator(datagen.flow(x = xtrain, y = ytrain, batch_size = 32), \n",
        "                    epochs = 50, steps_per_epoch = 100, \n",
        "                    validation_data = (xcv, ycv), \n",
        "                    callbacks = [learning_rate_reduction, checkpoint])"
      ],
      "execution_count": 0,
      "outputs": [
        {
          "output_type": "stream",
          "text": [
            "WARNING:tensorflow:From /usr/local/lib/python3.6/dist-packages/tensorflow_core/python/ops/math_grad.py:1424: where (from tensorflow.python.ops.array_ops) is deprecated and will be removed in a future version.\n",
            "Instructions for updating:\n",
            "Use tf.where in 2.0, which has the same broadcast rule as np.where\n",
            "WARNING:tensorflow:From /usr/local/lib/python3.6/dist-packages/keras/backend/tensorflow_backend.py:1033: The name tf.assign_add is deprecated. Please use tf.compat.v1.assign_add instead.\n",
            "\n",
            "WARNING:tensorflow:From /usr/local/lib/python3.6/dist-packages/keras/backend/tensorflow_backend.py:1020: The name tf.assign is deprecated. Please use tf.compat.v1.assign instead.\n",
            "\n",
            "WARNING:tensorflow:From /usr/local/lib/python3.6/dist-packages/keras/backend/tensorflow_backend.py:3005: The name tf.Session is deprecated. Please use tf.compat.v1.Session instead.\n",
            "\n",
            "Epoch 1/50\n",
            "WARNING:tensorflow:From /usr/local/lib/python3.6/dist-packages/keras/backend/tensorflow_backend.py:190: The name tf.get_default_session is deprecated. Please use tf.compat.v1.get_default_session instead.\n",
            "\n",
            "WARNING:tensorflow:From /usr/local/lib/python3.6/dist-packages/keras/backend/tensorflow_backend.py:197: The name tf.ConfigProto is deprecated. Please use tf.compat.v1.ConfigProto instead.\n",
            "\n",
            "WARNING:tensorflow:From /usr/local/lib/python3.6/dist-packages/keras/backend/tensorflow_backend.py:207: The name tf.global_variables is deprecated. Please use tf.compat.v1.global_variables instead.\n",
            "\n",
            "WARNING:tensorflow:From /usr/local/lib/python3.6/dist-packages/keras/backend/tensorflow_backend.py:216: The name tf.is_variable_initialized is deprecated. Please use tf.compat.v1.is_variable_initialized instead.\n",
            "\n",
            "WARNING:tensorflow:From /usr/local/lib/python3.6/dist-packages/keras/backend/tensorflow_backend.py:223: The name tf.variables_initializer is deprecated. Please use tf.compat.v1.variables_initializer instead.\n",
            "\n",
            "100/100 [==============================] - 98s 984ms/step - loss: 1.2425 - acc: 0.3424 - val_loss: 1.1948 - val_acc: 0.3443\n",
            "\n",
            "Epoch 00001: val_loss improved from inf to 1.19484, saving model to /content/aug_train.h5\n",
            "Epoch 2/50\n",
            "100/100 [==============================] - 99s 986ms/step - loss: 1.2063 - acc: 0.4132 - val_loss: 1.1589 - val_acc: 0.4426\n",
            "\n",
            "Epoch 00002: val_loss improved from 1.19484 to 1.15893, saving model to /content/aug_train.h5\n",
            "Epoch 3/50\n",
            "100/100 [==============================] - 99s 986ms/step - loss: 1.1851 - acc: 0.4279 - val_loss: 1.1418 - val_acc: 0.4809\n",
            "\n",
            "Epoch 00003: val_loss improved from 1.15893 to 1.14179, saving model to /content/aug_train.h5\n",
            "Epoch 4/50\n",
            "100/100 [==============================] - 98s 983ms/step - loss: 1.1484 - acc: 0.4719 - val_loss: 1.0885 - val_acc: 0.5574\n",
            "\n",
            "Epoch 00004: val_loss improved from 1.14179 to 1.08850, saving model to /content/aug_train.h5\n",
            "Epoch 5/50\n",
            "100/100 [==============================] - 98s 979ms/step - loss: 1.1313 - acc: 0.4956 - val_loss: 1.1484 - val_acc: 0.5301\n",
            "\n",
            "Epoch 00005: val_loss did not improve from 1.08850\n",
            "Epoch 6/50\n",
            "100/100 [==============================] - 97s 974ms/step - loss: 1.0818 - acc: 0.5249 - val_loss: 1.0588 - val_acc: 0.6011\n",
            "\n",
            "Epoch 00006: val_loss improved from 1.08850 to 1.05878, saving model to /content/aug_train.h5\n",
            "Epoch 7/50\n",
            "100/100 [==============================] - 96s 964ms/step - loss: 1.0338 - acc: 0.5696 - val_loss: 1.0634 - val_acc: 0.5519\n",
            "\n",
            "Epoch 00007: val_loss did not improve from 1.05878\n",
            "Epoch 8/50\n",
            "100/100 [==============================] - 98s 981ms/step - loss: 0.9733 - acc: 0.6092 - val_loss: 0.8933 - val_acc: 0.6612\n",
            "\n",
            "Epoch 00008: val_loss improved from 1.05878 to 0.89334, saving model to /content/aug_train.h5\n",
            "Epoch 9/50\n",
            "100/100 [==============================] - 98s 983ms/step - loss: 0.8843 - acc: 0.6447 - val_loss: 0.7646 - val_acc: 0.7104\n",
            "\n",
            "Epoch 00009: val_loss improved from 0.89334 to 0.76463, saving model to /content/aug_train.h5\n",
            "Epoch 10/50\n",
            "100/100 [==============================] - 96s 962ms/step - loss: 0.8313 - acc: 0.6734 - val_loss: 0.7995 - val_acc: 0.7049\n",
            "\n",
            "Epoch 00010: val_loss did not improve from 0.76463\n",
            "Epoch 11/50\n",
            "100/100 [==============================] - 97s 973ms/step - loss: 0.7786 - acc: 0.6990 - val_loss: 0.8467 - val_acc: 0.6721\n",
            "\n",
            "Epoch 00011: val_loss did not improve from 0.76463\n",
            "Epoch 12/50\n",
            "100/100 [==============================] - 96s 960ms/step - loss: 0.7594 - acc: 0.7020 - val_loss: 0.6986 - val_acc: 0.7158\n",
            "\n",
            "Epoch 00012: val_loss improved from 0.76463 to 0.69859, saving model to /content/aug_train.h5\n",
            "Epoch 13/50\n",
            "100/100 [==============================] - 96s 962ms/step - loss: 0.6969 - acc: 0.7332 - val_loss: 0.6321 - val_acc: 0.7213\n",
            "\n",
            "Epoch 00013: val_loss improved from 0.69859 to 0.63209, saving model to /content/aug_train.h5\n",
            "Epoch 14/50\n",
            "100/100 [==============================] - 97s 971ms/step - loss: 0.6948 - acc: 0.7311 - val_loss: 0.6312 - val_acc: 0.7377\n",
            "\n",
            "Epoch 00014: val_loss improved from 0.63209 to 0.63123, saving model to /content/aug_train.h5\n",
            "Epoch 15/50\n",
            "100/100 [==============================] - 97s 972ms/step - loss: 0.6654 - acc: 0.7403 - val_loss: 0.5814 - val_acc: 0.7814\n",
            "\n",
            "Epoch 00015: val_loss improved from 0.63123 to 0.58143, saving model to /content/aug_train.h5\n",
            "Epoch 16/50\n",
            "100/100 [==============================] - 97s 970ms/step - loss: 0.6465 - acc: 0.7522 - val_loss: 0.8509 - val_acc: 0.6667\n",
            "\n",
            "Epoch 00016: val_loss did not improve from 0.58143\n",
            "Epoch 17/50\n",
            "100/100 [==============================] - 96s 962ms/step - loss: 0.6593 - acc: 0.7533 - val_loss: 0.5899 - val_acc: 0.7486\n",
            "\n",
            "Epoch 00017: val_loss did not improve from 0.58143\n",
            "Epoch 18/50\n",
            "100/100 [==============================] - 96s 959ms/step - loss: 0.6039 - acc: 0.7681 - val_loss: 0.5831 - val_acc: 0.7705\n",
            "\n",
            "Epoch 00018: ReduceLROnPlateau reducing learning rate to 4.999999873689376e-05.\n",
            "\n",
            "Epoch 00018: val_loss did not improve from 0.58143\n",
            "Epoch 19/50\n",
            "100/100 [==============================] - 95s 953ms/step - loss: 0.5748 - acc: 0.7746 - val_loss: 0.5899 - val_acc: 0.7869\n",
            "\n",
            "Epoch 00019: val_loss did not improve from 0.58143\n",
            "Epoch 20/50\n",
            "100/100 [==============================] - 95s 952ms/step - loss: 0.5632 - acc: 0.7866 - val_loss: 0.4917 - val_acc: 0.8142\n",
            "\n",
            "Epoch 00020: val_loss improved from 0.58143 to 0.49172, saving model to /content/aug_train.h5\n",
            "Epoch 21/50\n",
            "100/100 [==============================] - 96s 957ms/step - loss: 0.5641 - acc: 0.7892 - val_loss: 0.7037 - val_acc: 0.7377\n",
            "\n",
            "Epoch 00021: val_loss did not improve from 0.49172\n",
            "Epoch 22/50\n",
            "100/100 [==============================] - 96s 958ms/step - loss: 0.5445 - acc: 0.7894 - val_loss: 0.6001 - val_acc: 0.7814\n",
            "\n",
            "Epoch 00022: val_loss did not improve from 0.49172\n",
            "Epoch 23/50\n",
            "100/100 [==============================] - 97s 966ms/step - loss: 0.5398 - acc: 0.7986 - val_loss: 0.4936 - val_acc: 0.7978\n",
            "\n",
            "Epoch 00023: ReduceLROnPlateau reducing learning rate to 2.499999936844688e-05.\n",
            "\n",
            "Epoch 00023: val_loss did not improve from 0.49172\n",
            "Epoch 24/50\n",
            "100/100 [==============================] - 97s 965ms/step - loss: 0.5098 - acc: 0.8074 - val_loss: 0.4798 - val_acc: 0.8251\n",
            "\n",
            "Epoch 00024: val_loss improved from 0.49172 to 0.47982, saving model to /content/aug_train.h5\n",
            "Epoch 25/50\n",
            "100/100 [==============================] - 96s 956ms/step - loss: 0.4881 - acc: 0.8152 - val_loss: 0.4956 - val_acc: 0.8197\n",
            "\n",
            "Epoch 00025: val_loss did not improve from 0.47982\n",
            "Epoch 26/50\n",
            "100/100 [==============================] - 96s 960ms/step - loss: 0.5064 - acc: 0.8124 - val_loss: 0.6398 - val_acc: 0.7650\n",
            "\n",
            "Epoch 00026: val_loss did not improve from 0.47982\n",
            "Epoch 27/50\n",
            "100/100 [==============================] - 96s 956ms/step - loss: 0.4957 - acc: 0.8150 - val_loss: 0.4944 - val_acc: 0.8251\n",
            "\n",
            "Epoch 00027: ReduceLROnPlateau reducing learning rate to 1.249999968422344e-05.\n",
            "\n",
            "Epoch 00027: val_loss did not improve from 0.47982\n",
            "Epoch 28/50\n",
            "100/100 [==============================] - 97s 971ms/step - loss: 0.4882 - acc: 0.8197 - val_loss: 0.4999 - val_acc: 0.8251\n",
            "\n",
            "Epoch 00028: val_loss did not improve from 0.47982\n",
            "Epoch 29/50\n",
            "100/100 [==============================] - 96s 965ms/step - loss: 0.4724 - acc: 0.8271 - val_loss: 0.4978 - val_acc: 0.8142\n",
            "\n",
            "Epoch 00029: val_loss did not improve from 0.47982\n",
            "Epoch 30/50\n",
            "100/100 [==============================] - 97s 967ms/step - loss: 0.4764 - acc: 0.8291 - val_loss: 0.4910 - val_acc: 0.8197\n",
            "\n",
            "Epoch 00030: ReduceLROnPlateau reducing learning rate to 1e-05.\n",
            "\n",
            "Epoch 00030: val_loss did not improve from 0.47982\n",
            "Epoch 31/50\n",
            "100/100 [==============================] - 97s 972ms/step - loss: 0.4705 - acc: 0.8276 - val_loss: 0.4803 - val_acc: 0.8197\n",
            "\n",
            "Epoch 00031: val_loss did not improve from 0.47982\n",
            "Epoch 32/50\n",
            "100/100 [==============================] - 97s 968ms/step - loss: 0.4773 - acc: 0.8386 - val_loss: 0.4844 - val_acc: 0.8306\n",
            "\n",
            "Epoch 00032: val_loss did not improve from 0.47982\n",
            "Epoch 33/50\n",
            "100/100 [==============================] - 96s 963ms/step - loss: 0.4616 - acc: 0.8308 - val_loss: 0.4705 - val_acc: 0.8361\n",
            "\n",
            "Epoch 00033: val_loss improved from 0.47982 to 0.47048, saving model to /content/aug_train.h5\n",
            "Epoch 34/50\n",
            "100/100 [==============================] - 97s 965ms/step - loss: 0.4465 - acc: 0.8428 - val_loss: 0.5120 - val_acc: 0.8033\n",
            "\n",
            "Epoch 00034: val_loss did not improve from 0.47048\n",
            "Epoch 35/50\n",
            "100/100 [==============================] - 97s 965ms/step - loss: 0.4753 - acc: 0.8267 - val_loss: 0.4862 - val_acc: 0.8306\n",
            "\n",
            "Epoch 00035: val_loss did not improve from 0.47048\n",
            "Epoch 36/50\n",
            "100/100 [==============================] - 97s 967ms/step - loss: 0.4532 - acc: 0.8317 - val_loss: 0.4759 - val_acc: 0.8197\n",
            "\n",
            "Epoch 00036: val_loss did not improve from 0.47048\n",
            "Epoch 37/50\n",
            "100/100 [==============================] - 97s 973ms/step - loss: 0.4658 - acc: 0.8336 - val_loss: 0.4699 - val_acc: 0.8251\n",
            "\n",
            "Epoch 00037: val_loss improved from 0.47048 to 0.46989, saving model to /content/aug_train.h5\n",
            "Epoch 38/50\n",
            "100/100 [==============================] - 96s 962ms/step - loss: 0.4382 - acc: 0.8389 - val_loss: 0.4841 - val_acc: 0.8251\n",
            "\n",
            "Epoch 00038: val_loss did not improve from 0.46989\n",
            "Epoch 39/50\n",
            "100/100 [==============================] - 96s 956ms/step - loss: 0.4443 - acc: 0.8418 - val_loss: 0.4887 - val_acc: 0.8197\n",
            "\n",
            "Epoch 00039: val_loss did not improve from 0.46989\n",
            "Epoch 40/50\n",
            "100/100 [==============================] - 96s 962ms/step - loss: 0.4533 - acc: 0.8391 - val_loss: 0.4783 - val_acc: 0.8251\n",
            "\n",
            "Epoch 00040: val_loss did not improve from 0.46989\n",
            "Epoch 41/50\n",
            "100/100 [==============================] - 97s 971ms/step - loss: 0.4410 - acc: 0.8468 - val_loss: 0.4804 - val_acc: 0.8197\n",
            "\n",
            "Epoch 00041: val_loss did not improve from 0.46989\n",
            "Epoch 42/50\n",
            "100/100 [==============================] - 96s 965ms/step - loss: 0.4349 - acc: 0.8455 - val_loss: 0.4660 - val_acc: 0.8197\n",
            "\n",
            "Epoch 00042: val_loss improved from 0.46989 to 0.46600, saving model to /content/aug_train.h5\n",
            "Epoch 43/50\n",
            "100/100 [==============================] - 96s 964ms/step - loss: 0.4408 - acc: 0.8447 - val_loss: 0.4439 - val_acc: 0.8470\n",
            "\n",
            "Epoch 00043: val_loss improved from 0.46600 to 0.44388, saving model to /content/aug_train.h5\n",
            "Epoch 44/50\n",
            "100/100 [==============================] - 99s 991ms/step - loss: 0.4266 - acc: 0.8506 - val_loss: 0.4542 - val_acc: 0.8361\n",
            "\n",
            "Epoch 00044: val_loss did not improve from 0.44388\n",
            "Epoch 45/50\n",
            "100/100 [==============================] - 96s 964ms/step - loss: 0.4349 - acc: 0.8450 - val_loss: 0.4221 - val_acc: 0.8470\n",
            "\n",
            "Epoch 00045: val_loss improved from 0.44388 to 0.42207, saving model to /content/aug_train.h5\n",
            "Epoch 46/50\n",
            "100/100 [==============================] - 96s 955ms/step - loss: 0.4390 - acc: 0.8438 - val_loss: 0.4853 - val_acc: 0.8197\n",
            "\n",
            "Epoch 00046: val_loss did not improve from 0.42207\n",
            "Epoch 47/50\n",
            "100/100 [==============================] - 101s 1s/step - loss: 0.4262 - acc: 0.8457 - val_loss: 0.4670 - val_acc: 0.8415\n",
            "\n",
            "Epoch 00047: val_loss did not improve from 0.42207\n",
            "Epoch 48/50\n",
            "100/100 [==============================] - 98s 976ms/step - loss: 0.4180 - acc: 0.8506 - val_loss: 0.4054 - val_acc: 0.8579\n",
            "\n",
            "Epoch 00048: val_loss improved from 0.42207 to 0.40541, saving model to /content/aug_train.h5\n",
            "Epoch 49/50\n",
            "100/100 [==============================] - 97s 971ms/step - loss: 0.4167 - acc: 0.8558 - val_loss: 0.4517 - val_acc: 0.8306\n",
            "\n",
            "Epoch 00049: val_loss did not improve from 0.40541\n",
            "Epoch 50/50\n",
            "100/100 [==============================] - 97s 974ms/step - loss: 0.4271 - acc: 0.8470 - val_loss: 0.4349 - val_acc: 0.8525\n",
            "\n",
            "Epoch 00050: val_loss did not improve from 0.40541\n"
          ],
          "name": "stdout"
        }
      ]
    },
    {
      "cell_type": "code",
      "metadata": {
        "id": "rtr71Jbpkeo1",
        "colab_type": "code",
        "colab": {}
      },
      "source": [
        "import matplotlib.pyplot as plt\n",
        "#plt.subplots(2,1)\n",
        "#plt.subplot(1, 2, 1)\n",
        "plt.plot(history.history['acc'])\n",
        "plt.plot(history.history['val_acc'])\n",
        "plt.ylabel(\"Accuracy\")\n",
        "plt.xlabel(\"Epoch\")\n",
        "plt.title(\"Model accuracy\")\n",
        "plt.legend(['train', 'test'], loc='upper left')\n",
        "plt.show()\n",
        "\n",
        "#plt.subplot(1, 2, 2)\n",
        "plt.plot(history.history['loss'])\n",
        "plt.plot(history.history['val_loss'])\n",
        "plt.title('model loss')\n",
        "plt.ylabel('loss')\n",
        "plt.xlabel('epoch')\n",
        "plt.legend(['train', 'test'], loc='upper left')\n",
        "\n",
        "plt.show()"
      ],
      "execution_count": 0,
      "outputs": []
    },
    {
      "cell_type": "code",
      "metadata": {
        "id": "c4vYd6e0szBu",
        "colab_type": "code",
        "colab": {}
      },
      "source": [
        "from keras.models import load_model\n",
        "net = load_model(\"/content/aug_train.h5\")\n",
        "\n",
        "predictions = net.predict(xtest)\n",
        "temp = predictions\n",
        "predictions = np.argmax(predictions, axis = 1)"
      ],
      "execution_count": 0,
      "outputs": []
    },
    {
      "cell_type": "code",
      "metadata": {
        "id": "C9PpTuzqtlaS",
        "colab_type": "code",
        "outputId": "c12f8beb-c081-49ae-8ea3-1ecf1a00b110",
        "colab": {
          "base_uri": "https://localhost:8080/",
          "height": 204
        }
      },
      "source": [
        "sam_sub[\"healthy\"].values[:] = 0\n",
        "sam_sub[\"multiple_diseases\"].values[:] = 0\n",
        "sam_sub[\"rust\"].values[:] = 0\n",
        "sam_sub[\"scab\"].values[:] = 0\n",
        "\n",
        "for i in range(len(predictions)):\n",
        "  if predictions[i] == 0:\n",
        "    sam_sub[\"scab\"].values[i] = 1\n",
        "  elif predictions[i] == 1:\n",
        "    sam_sub[\"multiple_diseases\"].values[i] = 1\n",
        "  elif predictions[i] == 2:\n",
        "    sam_sub[\"healthy\"].values[i] = 1\n",
        "  elif predictions[i] == 3:\n",
        "    sam_sub[\"rust\"].values[i] = 1\n",
        "\n",
        "sam_sub.head()"
      ],
      "execution_count": 0,
      "outputs": [
        {
          "output_type": "execute_result",
          "data": {
            "text/html": [
              "<div>\n",
              "<style scoped>\n",
              "    .dataframe tbody tr th:only-of-type {\n",
              "        vertical-align: middle;\n",
              "    }\n",
              "\n",
              "    .dataframe tbody tr th {\n",
              "        vertical-align: top;\n",
              "    }\n",
              "\n",
              "    .dataframe thead th {\n",
              "        text-align: right;\n",
              "    }\n",
              "</style>\n",
              "<table border=\"1\" class=\"dataframe\">\n",
              "  <thead>\n",
              "    <tr style=\"text-align: right;\">\n",
              "      <th></th>\n",
              "      <th>image_id</th>\n",
              "      <th>healthy</th>\n",
              "      <th>multiple_diseases</th>\n",
              "      <th>rust</th>\n",
              "      <th>scab</th>\n",
              "    </tr>\n",
              "  </thead>\n",
              "  <tbody>\n",
              "    <tr>\n",
              "      <th>0</th>\n",
              "      <td>Test_0</td>\n",
              "      <td>0.0</td>\n",
              "      <td>0.0</td>\n",
              "      <td>1.0</td>\n",
              "      <td>0.0</td>\n",
              "    </tr>\n",
              "    <tr>\n",
              "      <th>1</th>\n",
              "      <td>Test_1</td>\n",
              "      <td>0.0</td>\n",
              "      <td>0.0</td>\n",
              "      <td>1.0</td>\n",
              "      <td>0.0</td>\n",
              "    </tr>\n",
              "    <tr>\n",
              "      <th>2</th>\n",
              "      <td>Test_2</td>\n",
              "      <td>0.0</td>\n",
              "      <td>0.0</td>\n",
              "      <td>0.0</td>\n",
              "      <td>1.0</td>\n",
              "    </tr>\n",
              "    <tr>\n",
              "      <th>3</th>\n",
              "      <td>Test_3</td>\n",
              "      <td>1.0</td>\n",
              "      <td>0.0</td>\n",
              "      <td>0.0</td>\n",
              "      <td>0.0</td>\n",
              "    </tr>\n",
              "    <tr>\n",
              "      <th>4</th>\n",
              "      <td>Test_4</td>\n",
              "      <td>0.0</td>\n",
              "      <td>0.0</td>\n",
              "      <td>1.0</td>\n",
              "      <td>0.0</td>\n",
              "    </tr>\n",
              "  </tbody>\n",
              "</table>\n",
              "</div>"
            ],
            "text/plain": [
              "  image_id  healthy  multiple_diseases  rust  scab\n",
              "0   Test_0      0.0                0.0   1.0   0.0\n",
              "1   Test_1      0.0                0.0   1.0   0.0\n",
              "2   Test_2      0.0                0.0   0.0   1.0\n",
              "3   Test_3      1.0                0.0   0.0   0.0\n",
              "4   Test_4      0.0                0.0   1.0   0.0"
            ]
          },
          "metadata": {
            "tags": []
          },
          "execution_count": 22
        }
      ]
    },
    {
      "cell_type": "code",
      "metadata": {
        "id": "Z7DB5cm533vO",
        "colab_type": "code",
        "colab": {}
      },
      "source": [
        "sam_sub.to_csv(\"/content/aug_best.csv\", index = False)"
      ],
      "execution_count": 0,
      "outputs": []
    }
  ]
}