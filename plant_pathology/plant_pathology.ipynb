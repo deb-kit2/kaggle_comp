{
  "nbformat": 4,
  "nbformat_minor": 0,
  "metadata": {
    "colab": {
      "name": "plant_pathology.ipynb",
      "provenance": [],
      "collapsed_sections": [],
      "machine_shape": "hm"
    },
    "kernelspec": {
      "name": "python3",
      "display_name": "Python 3"
    }
  },
  "cells": [
    {
      "cell_type": "code",
      "metadata": {
        "id": "t1y6yQuFGe0H",
        "colab_type": "code",
        "outputId": "e8b65c0d-bad1-4f04-d57a-bd1e88f68d85",
        "colab": {
          "base_uri": "https://localhost:8080/",
          "height": 122
        }
      },
      "source": [
        "from google.colab import drive\n",
        "drive.mount(\"/content/drive\")\n",
        "import os\n",
        "os.chdir(\"/content/drive/My Drive/plant_pathology_kaggle\")"
      ],
      "execution_count": 1,
      "outputs": [
        {
          "output_type": "stream",
          "text": [
            "Go to this URL in a browser: https://accounts.google.com/o/oauth2/auth?client_id=947318989803-6bn6qk8qdgf4n4g3pfee6491hc0brc4i.apps.googleusercontent.com&redirect_uri=urn%3aietf%3awg%3aoauth%3a2.0%3aoob&response_type=code&scope=email%20https%3a%2f%2fwww.googleapis.com%2fauth%2fdocs.test%20https%3a%2f%2fwww.googleapis.com%2fauth%2fdrive%20https%3a%2f%2fwww.googleapis.com%2fauth%2fdrive.photos.readonly%20https%3a%2f%2fwww.googleapis.com%2fauth%2fpeopleapi.readonly\n",
            "\n",
            "Enter your authorization code:\n",
            "··········\n",
            "Mounted at /content/drive\n"
          ],
          "name": "stdout"
        }
      ]
    },
    {
      "cell_type": "code",
      "metadata": {
        "id": "wfF69T_vII5v",
        "colab_type": "code",
        "colab": {}
      },
      "source": [
        "import numpy as np\n",
        "import pandas as pd\n",
        "\n",
        "sam_sub = pd.read_csv('sample_submission.csv')\n",
        "train_csv = pd.read_csv('train.csv')\n",
        "test_csv = pd.read_csv('test.csv')"
      ],
      "execution_count": 0,
      "outputs": []
    },
    {
      "cell_type": "code",
      "metadata": {
        "id": "oLspOwtTY4W3",
        "colab_type": "code",
        "outputId": "3b8a6c5c-7538-4cdb-bd76-a3d2ed5a09c2",
        "colab": {
          "base_uri": "https://localhost:8080/",
          "height": 204
        }
      },
      "source": [
        "train_csv.head()"
      ],
      "execution_count": 3,
      "outputs": [
        {
          "output_type": "execute_result",
          "data": {
            "text/html": [
              "<div>\n",
              "<style scoped>\n",
              "    .dataframe tbody tr th:only-of-type {\n",
              "        vertical-align: middle;\n",
              "    }\n",
              "\n",
              "    .dataframe tbody tr th {\n",
              "        vertical-align: top;\n",
              "    }\n",
              "\n",
              "    .dataframe thead th {\n",
              "        text-align: right;\n",
              "    }\n",
              "</style>\n",
              "<table border=\"1\" class=\"dataframe\">\n",
              "  <thead>\n",
              "    <tr style=\"text-align: right;\">\n",
              "      <th></th>\n",
              "      <th>image_id</th>\n",
              "      <th>healthy</th>\n",
              "      <th>multiple_diseases</th>\n",
              "      <th>rust</th>\n",
              "      <th>scab</th>\n",
              "    </tr>\n",
              "  </thead>\n",
              "  <tbody>\n",
              "    <tr>\n",
              "      <th>0</th>\n",
              "      <td>Train_0</td>\n",
              "      <td>0</td>\n",
              "      <td>0</td>\n",
              "      <td>0</td>\n",
              "      <td>1</td>\n",
              "    </tr>\n",
              "    <tr>\n",
              "      <th>1</th>\n",
              "      <td>Train_1</td>\n",
              "      <td>0</td>\n",
              "      <td>1</td>\n",
              "      <td>0</td>\n",
              "      <td>0</td>\n",
              "    </tr>\n",
              "    <tr>\n",
              "      <th>2</th>\n",
              "      <td>Train_2</td>\n",
              "      <td>1</td>\n",
              "      <td>0</td>\n",
              "      <td>0</td>\n",
              "      <td>0</td>\n",
              "    </tr>\n",
              "    <tr>\n",
              "      <th>3</th>\n",
              "      <td>Train_3</td>\n",
              "      <td>0</td>\n",
              "      <td>0</td>\n",
              "      <td>1</td>\n",
              "      <td>0</td>\n",
              "    </tr>\n",
              "    <tr>\n",
              "      <th>4</th>\n",
              "      <td>Train_4</td>\n",
              "      <td>1</td>\n",
              "      <td>0</td>\n",
              "      <td>0</td>\n",
              "      <td>0</td>\n",
              "    </tr>\n",
              "  </tbody>\n",
              "</table>\n",
              "</div>"
            ],
            "text/plain": [
              "  image_id  healthy  multiple_diseases  rust  scab\n",
              "0  Train_0        0                  0     0     1\n",
              "1  Train_1        0                  1     0     0\n",
              "2  Train_2        1                  0     0     0\n",
              "3  Train_3        0                  0     1     0\n",
              "4  Train_4        1                  0     0     0"
            ]
          },
          "metadata": {
            "tags": []
          },
          "execution_count": 3
        }
      ]
    },
    {
      "cell_type": "code",
      "metadata": {
        "id": "-CwyCE43aAvK",
        "colab_type": "code",
        "outputId": "bf1cad44-c0bd-42be-860e-3ae6e1760e78",
        "colab": {
          "base_uri": "https://localhost:8080/",
          "height": 204
        }
      },
      "source": [
        "def get_class(row): \n",
        "  if row['multiple_diseases'] == 1: \n",
        "    return 'multiple_diseases' \n",
        "  elif row['rust'] == 1: \n",
        "    return 'rust' \n",
        "  elif row['scab'] == 1: \n",
        "    return 'scab' \n",
        "  else: \n",
        "    return 'healthy' \n",
        "    \n",
        "train_csv[\"label\"] = train_csv.apply(get_class, axis=1) \n",
        "#train_csv.head()\n",
        "temp = pd.factorize(train_csv[\"label\"])\n",
        "train_csv[\"label\"] = temp[0]\n",
        "\n",
        "train_csv.head()"
      ],
      "execution_count": 4,
      "outputs": [
        {
          "output_type": "execute_result",
          "data": {
            "text/html": [
              "<div>\n",
              "<style scoped>\n",
              "    .dataframe tbody tr th:only-of-type {\n",
              "        vertical-align: middle;\n",
              "    }\n",
              "\n",
              "    .dataframe tbody tr th {\n",
              "        vertical-align: top;\n",
              "    }\n",
              "\n",
              "    .dataframe thead th {\n",
              "        text-align: right;\n",
              "    }\n",
              "</style>\n",
              "<table border=\"1\" class=\"dataframe\">\n",
              "  <thead>\n",
              "    <tr style=\"text-align: right;\">\n",
              "      <th></th>\n",
              "      <th>image_id</th>\n",
              "      <th>healthy</th>\n",
              "      <th>multiple_diseases</th>\n",
              "      <th>rust</th>\n",
              "      <th>scab</th>\n",
              "      <th>label</th>\n",
              "    </tr>\n",
              "  </thead>\n",
              "  <tbody>\n",
              "    <tr>\n",
              "      <th>0</th>\n",
              "      <td>Train_0</td>\n",
              "      <td>0</td>\n",
              "      <td>0</td>\n",
              "      <td>0</td>\n",
              "      <td>1</td>\n",
              "      <td>0</td>\n",
              "    </tr>\n",
              "    <tr>\n",
              "      <th>1</th>\n",
              "      <td>Train_1</td>\n",
              "      <td>0</td>\n",
              "      <td>1</td>\n",
              "      <td>0</td>\n",
              "      <td>0</td>\n",
              "      <td>1</td>\n",
              "    </tr>\n",
              "    <tr>\n",
              "      <th>2</th>\n",
              "      <td>Train_2</td>\n",
              "      <td>1</td>\n",
              "      <td>0</td>\n",
              "      <td>0</td>\n",
              "      <td>0</td>\n",
              "      <td>2</td>\n",
              "    </tr>\n",
              "    <tr>\n",
              "      <th>3</th>\n",
              "      <td>Train_3</td>\n",
              "      <td>0</td>\n",
              "      <td>0</td>\n",
              "      <td>1</td>\n",
              "      <td>0</td>\n",
              "      <td>3</td>\n",
              "    </tr>\n",
              "    <tr>\n",
              "      <th>4</th>\n",
              "      <td>Train_4</td>\n",
              "      <td>1</td>\n",
              "      <td>0</td>\n",
              "      <td>0</td>\n",
              "      <td>0</td>\n",
              "      <td>2</td>\n",
              "    </tr>\n",
              "  </tbody>\n",
              "</table>\n",
              "</div>"
            ],
            "text/plain": [
              "  image_id  healthy  multiple_diseases  rust  scab  label\n",
              "0  Train_0        0                  0     0     1      0\n",
              "1  Train_1        0                  1     0     0      1\n",
              "2  Train_2        1                  0     0     0      2\n",
              "3  Train_3        0                  0     1     0      3\n",
              "4  Train_4        1                  0     0     0      2"
            ]
          },
          "metadata": {
            "tags": []
          },
          "execution_count": 4
        }
      ]
    },
    {
      "cell_type": "code",
      "metadata": {
        "id": "rlU_7tD1abwA",
        "colab_type": "code",
        "outputId": "813a90b5-4bab-4bdf-b50f-ba502160d856",
        "colab": {
          "base_uri": "https://localhost:8080/",
          "height": 199
        }
      },
      "source": [
        "reference_map = {\"scab\" : 0, \"multiple_diseases\" : 1, \"healthy\" : 2, \"rust\" : 3}\n",
        "y = train_csv[\"label\"]\n",
        "\n",
        "from keras.utils import to_categorical\n",
        "y = to_categorical(y, 4)\n",
        "y"
      ],
      "execution_count": 5,
      "outputs": [
        {
          "output_type": "stream",
          "text": [
            "Using TensorFlow backend.\n"
          ],
          "name": "stderr"
        },
        {
          "output_type": "display_data",
          "data": {
            "text/html": [
              "<p style=\"color: red;\">\n",
              "The default version of TensorFlow in Colab will soon switch to TensorFlow 2.x.<br>\n",
              "We recommend you <a href=\"https://www.tensorflow.org/guide/migrate\" target=\"_blank\">upgrade</a> now \n",
              "or ensure your notebook will continue to use TensorFlow 1.x via the <code>%tensorflow_version 1.x</code> magic:\n",
              "<a href=\"https://colab.research.google.com/notebooks/tensorflow_version.ipynb\" target=\"_blank\">more info</a>.</p>\n"
            ],
            "text/plain": [
              "<IPython.core.display.HTML object>"
            ]
          },
          "metadata": {
            "tags": []
          }
        },
        {
          "output_type": "execute_result",
          "data": {
            "text/plain": [
              "array([[1., 0., 0., 0.],\n",
              "       [0., 1., 0., 0.],\n",
              "       [0., 0., 1., 0.],\n",
              "       ...,\n",
              "       [0., 0., 1., 0.],\n",
              "       [0., 0., 0., 1.],\n",
              "       [1., 0., 0., 0.]], dtype=float32)"
            ]
          },
          "metadata": {
            "tags": []
          },
          "execution_count": 5
        }
      ]
    },
    {
      "cell_type": "code",
      "metadata": {
        "id": "g9fwjtEebUA4",
        "colab_type": "code",
        "outputId": "4edd917f-6626-4c85-9718-77b865ac09df",
        "colab": {
          "base_uri": "https://localhost:8080/",
          "height": 204
        }
      },
      "source": [
        "test_csv.head()"
      ],
      "execution_count": 6,
      "outputs": [
        {
          "output_type": "execute_result",
          "data": {
            "text/html": [
              "<div>\n",
              "<style scoped>\n",
              "    .dataframe tbody tr th:only-of-type {\n",
              "        vertical-align: middle;\n",
              "    }\n",
              "\n",
              "    .dataframe tbody tr th {\n",
              "        vertical-align: top;\n",
              "    }\n",
              "\n",
              "    .dataframe thead th {\n",
              "        text-align: right;\n",
              "    }\n",
              "</style>\n",
              "<table border=\"1\" class=\"dataframe\">\n",
              "  <thead>\n",
              "    <tr style=\"text-align: right;\">\n",
              "      <th></th>\n",
              "      <th>image_id</th>\n",
              "    </tr>\n",
              "  </thead>\n",
              "  <tbody>\n",
              "    <tr>\n",
              "      <th>0</th>\n",
              "      <td>Test_0</td>\n",
              "    </tr>\n",
              "    <tr>\n",
              "      <th>1</th>\n",
              "      <td>Test_1</td>\n",
              "    </tr>\n",
              "    <tr>\n",
              "      <th>2</th>\n",
              "      <td>Test_2</td>\n",
              "    </tr>\n",
              "    <tr>\n",
              "      <th>3</th>\n",
              "      <td>Test_3</td>\n",
              "    </tr>\n",
              "    <tr>\n",
              "      <th>4</th>\n",
              "      <td>Test_4</td>\n",
              "    </tr>\n",
              "  </tbody>\n",
              "</table>\n",
              "</div>"
            ],
            "text/plain": [
              "  image_id\n",
              "0   Test_0\n",
              "1   Test_1\n",
              "2   Test_2\n",
              "3   Test_3\n",
              "4   Test_4"
            ]
          },
          "metadata": {
            "tags": []
          },
          "execution_count": 6
        }
      ]
    },
    {
      "cell_type": "code",
      "metadata": {
        "id": "H1EQEzuWayzN",
        "colab_type": "code",
        "colab": {}
      },
      "source": [
        "path = '/content/drive/My Drive/plant_pathology_kaggle/images/'\n",
        "image_list = os.listdir(path)\n",
        "\n",
        "train_images = train_csv[\"image_id\"]\n",
        "test_images = test_csv[\"image_id\"]\n",
        "\n",
        "train_images = np.asarray(train_images) + \".jpg\"\n",
        "test_images = np.asarray(test_images) + \".jpg\""
      ],
      "execution_count": 0,
      "outputs": []
    },
    {
      "cell_type": "code",
      "metadata": {
        "id": "G0RitlPVdRee",
        "colab_type": "code",
        "outputId": "20911f10-8c48-49c1-e819-7c16d6cc0f8f",
        "colab": {
          "base_uri": "https://localhost:8080/",
          "height": 51
        }
      },
      "source": [
        "train_images"
      ],
      "execution_count": 8,
      "outputs": [
        {
          "output_type": "execute_result",
          "data": {
            "text/plain": [
              "array(['Train_0.jpg', 'Train_1.jpg', 'Train_2.jpg', ..., 'Train_1818.jpg',\n",
              "       'Train_1819.jpg', 'Train_1820.jpg'], dtype=object)"
            ]
          },
          "metadata": {
            "tags": []
          },
          "execution_count": 8
        }
      ]
    },
    {
      "cell_type": "code",
      "metadata": {
        "id": "W5k0_E5kb6Ps",
        "colab_type": "code",
        "outputId": "9a4d729f-faca-4755-c5d9-a62c98137f93",
        "colab": {
          "base_uri": "https://localhost:8080/",
          "height": 54
        }
      },
      "source": [
        "image_height = 150\n",
        "image_width = 150\n",
        "channels = 3\n",
        "\n",
        "import cv2\n",
        "xtrain = np.zeros((len(y), image_height, image_width, channels))\n",
        "xtest = np.zeros((len(y), image_height, image_width, channels))\n",
        "\n",
        "for i in range(len(y)):\n",
        "  imgtrain = train_images[i]\n",
        "  imgtest = test_images[i]\n",
        "  #path = '/content/drive/My Drive/plant_pathology_kaggle/images/' + img\n",
        "  img = cv2.imread('/content/drive/My Drive/plant_pathology_kaggle/images/'+imgtrain)\n",
        "  img = cv2.cvtColor(img, cv2.COLOR_BGR2RGB)\n",
        "  img = cv2.resize(img, (image_height, image_width))\n",
        "  xtrain[i] = img\n",
        "  img = cv2.imread('/content/drive/My Drive/plant_pathology_kaggle/images/'+imgtest)\n",
        "  img = cv2.cvtColor(img, cv2.COLOR_BGR2RGB)\n",
        "  img = cv2.resize(img, (image_height, image_width))\n",
        "  xtest[i] = img\n",
        "\n",
        "\"\"\"\n",
        "for i in range(len(y)):\n",
        "  img = test_images[i]\n",
        "  path = '/content/drive/My Drive/plant_pathology_kaggle/images/' + img\n",
        "  img = cv2.imread(path)\n",
        "  img = cv2.cvtColor(img, cv2.COLOR_BGR2RGB)\n",
        "  img = cv2.resize(img, (image_height, image_width))\n",
        "  xtest[i] = img\n",
        "\"\"\""
      ],
      "execution_count": 9,
      "outputs": [
        {
          "output_type": "execute_result",
          "data": {
            "text/plain": [
              "\"\\nfor i in range(len(y)):\\n  img = test_images[i]\\n  path = '/content/drive/My Drive/plant_pathology_kaggle/images/' + img\\n  img = cv2.imread(path)\\n  img = cv2.cvtColor(img, cv2.COLOR_BGR2RGB)\\n  img = cv2.resize(img, (image_height, image_width))\\n  xtest[i] = img\\n\""
            ]
          },
          "metadata": {
            "tags": []
          },
          "execution_count": 9
        }
      ]
    },
    {
      "cell_type": "code",
      "metadata": {
        "id": "EJChdIYWeCsf",
        "colab_type": "code",
        "outputId": "7c1c41f8-2b20-430d-9542-c0982272a0c6",
        "colab": {
          "base_uri": "https://localhost:8080/",
          "height": 51
        }
      },
      "source": [
        "print(xtrain.shape)\n",
        "print(xtest.shape)"
      ],
      "execution_count": 10,
      "outputs": [
        {
          "output_type": "stream",
          "text": [
            "(1821, 256, 256, 3)\n",
            "(1821, 256, 256, 3)\n"
          ],
          "name": "stdout"
        }
      ]
    },
    {
      "cell_type": "code",
      "metadata": {
        "id": "iFSyaeG2hSpO",
        "colab_type": "code",
        "colab": {}
      },
      "source": [
        "xtrain /= 255\n",
        "xtest /= 255"
      ],
      "execution_count": 0,
      "outputs": []
    },
    {
      "cell_type": "code",
      "metadata": {
        "id": "VvFt_UxT555e",
        "colab_type": "code",
        "colab": {}
      },
      "source": [
        "from imblearn.over_sampling import RandomOverSampler\n",
        "\n",
        "ros = RandomOverSampler(random_state = 267)\n",
        "\n",
        "x_res, y_res = ros.fit_resample(xtrain.reshape((-1, image_height * image_width * channels)), y)\n",
        "x_res = x_res.reshape((-1, image_height, image_width, channels))\n",
        "\n",
        "x_res.shape, y_res.sum(axis=0)"
      ],
      "execution_count": 0,
      "outputs": []
    },
    {
      "cell_type": "code",
      "metadata": {
        "id": "tDxiFVcph42m",
        "colab_type": "code",
        "colab": {}
      },
      "source": [
        "from sklearn.model_selection import train_test_split\n",
        "xtrain, xcv, ytrain, ycv = train_test_split(x_res, y_res, test_size = 0.1, random_state = 267)"
      ],
      "execution_count": 0,
      "outputs": []
    },
    {
      "cell_type": "markdown",
      "metadata": {
        "id": "FREO0ZHdjSIP",
        "colab_type": "text"
      },
      "source": [
        "####Thats all basic pre-procesing.\n",
        "Things to try next : \n",
        "  #iii. transfer learning\n",
        "  #iv. without reshaping "
      ]
    },
    {
      "cell_type": "code",
      "metadata": {
        "id": "AhM9IazpjOmp",
        "colab_type": "code",
        "outputId": "7dca1450-8f76-4be3-fad5-a239df924d2d",
        "colab": {
          "base_uri": "https://localhost:8080/",
          "height": 258
        }
      },
      "source": [
        "from keras.layers import Conv2D, MaxPool2D, Dropout, Flatten, Dense\n",
        "from keras import models\n",
        "\n",
        "model = models.Sequential()\n",
        "model.add(Conv2D(filters = 32, kernel_size = (3,3), padding = \"same\", \n",
        "                 activation = \"relu\", input_shape = (image_height, image_width, channels)))\n",
        "model.add(MaxPool2D(pool_size=(2,2)))\n",
        "#model.add(MaxPool2D(pool_size=(2,2)))\n",
        "#model.add(Dropout(0.25))\n",
        "\n",
        "model.add(Conv2D(filters = 64, kernel_size = (3,3),padding = \"same\", \n",
        "                 activation ='relu'))\n",
        "model.add(MaxPool2D(pool_size=(2,2)))\n",
        "#model.add(MaxPool2D(pool_size=(2,2)))\n",
        "#model.add(Dropout(0.25))\n",
        "\n",
        "\n",
        "model.add(Conv2D(filters = 128, kernel_size = (3,3),padding = \"same\", \n",
        "                 activation ='relu'))\n",
        "model.add(MaxPool2D(pool_size=(2,2)))\n",
        "#model.add(Dropout(0.25))\n",
        "\n",
        "model.add(Conv2D(filters = 128, kernel_size = (3,3),padding = \"same\", \n",
        "                 activation ='relu'))\n",
        "model.add(MaxPool2D(pool_size=(2,2)))\n",
        "#model.add(Dropout(0.25))\n",
        "\n",
        "#model.add(Conv2D(filters = 256, kernel_size = (3,3),padding = \"same\", \n",
        "#                 activation ='relu'))\n",
        "#model.add(MaxPool2D(pool_size=(2,2), strides=(2,2)))\n",
        "#model.add(Dropout(0.25))\n",
        "\n",
        "#model.add(Conv2D(filters = 512, kernel_size = (3,3),padding = \"same\", \n",
        "#                 activation ='relu'))\n",
        "#model.add(MaxPool2D(pool_size=(2,2), strides=(2,2)))\n",
        "\n",
        "model.add(Dropout(0.25))\n",
        "model.add(Flatten())\n",
        "model.add(Dense(512, activation = \"relu\"))\n",
        "#model.add(Dropout(0.5))\n",
        "model.add(Dense(4, activation = \"softmax\"))"
      ],
      "execution_count": 13,
      "outputs": [
        {
          "output_type": "stream",
          "text": [
            "WARNING:tensorflow:From /usr/local/lib/python3.6/dist-packages/keras/backend/tensorflow_backend.py:66: The name tf.get_default_graph is deprecated. Please use tf.compat.v1.get_default_graph instead.\n",
            "\n",
            "WARNING:tensorflow:From /usr/local/lib/python3.6/dist-packages/keras/backend/tensorflow_backend.py:541: The name tf.placeholder is deprecated. Please use tf.compat.v1.placeholder instead.\n",
            "\n",
            "WARNING:tensorflow:From /usr/local/lib/python3.6/dist-packages/keras/backend/tensorflow_backend.py:4432: The name tf.random_uniform is deprecated. Please use tf.random.uniform instead.\n",
            "\n",
            "WARNING:tensorflow:From /usr/local/lib/python3.6/dist-packages/keras/backend/tensorflow_backend.py:4267: The name tf.nn.max_pool is deprecated. Please use tf.nn.max_pool2d instead.\n",
            "\n",
            "WARNING:tensorflow:From /usr/local/lib/python3.6/dist-packages/keras/backend/tensorflow_backend.py:148: The name tf.placeholder_with_default is deprecated. Please use tf.compat.v1.placeholder_with_default instead.\n",
            "\n",
            "WARNING:tensorflow:From /usr/local/lib/python3.6/dist-packages/keras/backend/tensorflow_backend.py:3733: calling dropout (from tensorflow.python.ops.nn_ops) with keep_prob is deprecated and will be removed in a future version.\n",
            "Instructions for updating:\n",
            "Please use `rate` instead of `keep_prob`. Rate should be set to `rate = 1 - keep_prob`.\n"
          ],
          "name": "stdout"
        }
      ]
    },
    {
      "cell_type": "code",
      "metadata": {
        "id": "x5UI4e09nG-K",
        "colab_type": "code",
        "outputId": "5bff3af5-4f75-4c98-c702-cba09cf81927",
        "colab": {
          "base_uri": "https://localhost:8080/",
          "height": 105
        }
      },
      "source": [
        "from keras.optimizers import RMSprop\n",
        "opti = RMSprop(lr = 1e-3)\n",
        "model.compile(optimizer = opti, loss = \"categorical_crossentropy\", metrics = [\"accuracy\"])\n",
        "\n",
        "from keras.callbacks import ReduceLROnPlateau\n",
        "learning_rate_reduction = ReduceLROnPlateau(monitor='val_acc', patience=3, \n",
        "                                            verbose=1, factor=0.5, min_lr=0.00001)\n",
        "\n",
        "from keras.callbacks import ModelCheckpoint\n",
        "checkpoint = ModelCheckpoint(filepath = \"/content/res_aug.h5\", \n",
        "                             save_best_only = True, monitor = \"val_loss\",\n",
        "                             verbose = 1)"
      ],
      "execution_count": 14,
      "outputs": [
        {
          "output_type": "stream",
          "text": [
            "WARNING:tensorflow:From /usr/local/lib/python3.6/dist-packages/keras/optimizers.py:793: The name tf.train.Optimizer is deprecated. Please use tf.compat.v1.train.Optimizer instead.\n",
            "\n",
            "WARNING:tensorflow:From /usr/local/lib/python3.6/dist-packages/keras/backend/tensorflow_backend.py:3576: The name tf.log is deprecated. Please use tf.math.log instead.\n",
            "\n"
          ],
          "name": "stdout"
        }
      ]
    },
    {
      "cell_type": "code",
      "metadata": {
        "id": "xovH2SZ-UgYC",
        "colab_type": "code",
        "colab": {}
      },
      "source": [
        "from keras.preprocessing.image import ImageDataGenerator\n",
        "\n",
        "datagen = ImageDataGenerator(rotation_range = 45, width_shift_range = 0.2, height_shift_range = 0.2,\n",
        "                             zoom_range = 0.2, horizontal_flip = True, vertical_flip = True)\n",
        "\n",
        "datagen.fit(xtrain)\n",
        "\n",
        "train_size = len(ytrain)"
      ],
      "execution_count": 0,
      "outputs": []
    },
    {
      "cell_type": "code",
      "metadata": {
        "id": "TdWLol8on9sk",
        "colab_type": "code",
        "outputId": "f1df6885-15bc-4585-8cd9-0fa2954535c1",
        "colab": {
          "base_uri": "https://localhost:8080/",
          "height": 1000
        }
      },
      "source": [
        "history = model.fit_generator(datagen.flow(x = xtrain, y = ytrain, batch_size = 32), \n",
        "                    epochs = 50, steps_per_epoch = len(y)//32, \n",
        "                    validation_data = (xcv, ycv), \n",
        "                    callbacks = [learning_rate_reduction, checkpoint])"
      ],
      "execution_count": 0,
      "outputs": [
        {
          "output_type": "stream",
          "text": [
            "WARNING:tensorflow:From /tensorflow-1.15.0/python3.6/tensorflow_core/python/ops/math_grad.py:1424: where (from tensorflow.python.ops.array_ops) is deprecated and will be removed in a future version.\n",
            "Instructions for updating:\n",
            "Use tf.where in 2.0, which has the same broadcast rule as np.where\n",
            "WARNING:tensorflow:From /usr/local/lib/python3.6/dist-packages/keras/backend/tensorflow_backend.py:1033: The name tf.assign_add is deprecated. Please use tf.compat.v1.assign_add instead.\n",
            "\n",
            "WARNING:tensorflow:From /usr/local/lib/python3.6/dist-packages/keras/backend/tensorflow_backend.py:1020: The name tf.assign is deprecated. Please use tf.compat.v1.assign instead.\n",
            "\n",
            "WARNING:tensorflow:From /usr/local/lib/python3.6/dist-packages/keras/backend/tensorflow_backend.py:3005: The name tf.Session is deprecated. Please use tf.compat.v1.Session instead.\n",
            "\n",
            "Epoch 1/50\n",
            "WARNING:tensorflow:From /usr/local/lib/python3.6/dist-packages/keras/backend/tensorflow_backend.py:190: The name tf.get_default_session is deprecated. Please use tf.compat.v1.get_default_session instead.\n",
            "\n",
            "WARNING:tensorflow:From /usr/local/lib/python3.6/dist-packages/keras/backend/tensorflow_backend.py:197: The name tf.ConfigProto is deprecated. Please use tf.compat.v1.ConfigProto instead.\n",
            "\n",
            "WARNING:tensorflow:From /usr/local/lib/python3.6/dist-packages/keras/backend/tensorflow_backend.py:207: The name tf.global_variables is deprecated. Please use tf.compat.v1.global_variables instead.\n",
            "\n",
            "WARNING:tensorflow:From /usr/local/lib/python3.6/dist-packages/keras/backend/tensorflow_backend.py:216: The name tf.is_variable_initialized is deprecated. Please use tf.compat.v1.is_variable_initialized instead.\n",
            "\n",
            "WARNING:tensorflow:From /usr/local/lib/python3.6/dist-packages/keras/backend/tensorflow_backend.py:223: The name tf.variables_initializer is deprecated. Please use tf.compat.v1.variables_initializer instead.\n",
            "\n",
            "56/56 [==============================] - 34s 613ms/step - loss: 10.2787 - acc: 0.3526 - val_loss: 11.2739 - val_acc: 0.3005\n",
            "\n",
            "Epoch 00001: val_loss improved from inf to 11.27386, saving model to /content/aug_train2.h5\n",
            "Epoch 2/50\n",
            "56/56 [==============================] - 24s 422ms/step - loss: 10.6434 - acc: 0.3397 - val_loss: 11.2739 - val_acc: 0.3005\n",
            "\n",
            "Epoch 00002: val_loss did not improve from 11.27386\n",
            "Epoch 3/50\n",
            "56/56 [==============================] - 25s 444ms/step - loss: 10.5355 - acc: 0.3464 - val_loss: 11.2739 - val_acc: 0.3005\n",
            "\n",
            "Epoch 00003: val_loss did not improve from 11.27386\n",
            "Epoch 4/50\n",
            "56/56 [==============================] - 24s 425ms/step - loss: 10.5047 - acc: 0.3483 - val_loss: 11.2739 - val_acc: 0.3005\n",
            "\n",
            "Epoch 00004: ReduceLROnPlateau reducing learning rate to 0.0005000000237487257.\n",
            "\n",
            "Epoch 00004: val_loss did not improve from 11.27386\n",
            "Epoch 5/50\n",
            "56/56 [==============================] - 24s 435ms/step - loss: 10.6135 - acc: 0.3415 - val_loss: 11.2739 - val_acc: 0.3005\n",
            "\n",
            "Epoch 00005: val_loss did not improve from 11.27386\n",
            "Epoch 6/50\n",
            "56/56 [==============================] - 24s 422ms/step - loss: 10.5181 - acc: 0.3474 - val_loss: 11.2739 - val_acc: 0.3005\n",
            "\n",
            "Epoch 00006: val_loss did not improve from 11.27386\n",
            "Epoch 7/50\n",
            "56/56 [==============================] - 24s 433ms/step - loss: 10.4995 - acc: 0.3486 - val_loss: 11.2739 - val_acc: 0.3005\n",
            "\n",
            "Epoch 00007: ReduceLROnPlateau reducing learning rate to 0.0002500000118743628.\n",
            "\n",
            "Epoch 00007: val_loss did not improve from 11.27386\n",
            "Epoch 8/50\n",
            "56/56 [==============================] - 24s 435ms/step - loss: 10.5129 - acc: 0.3478 - val_loss: 11.2739 - val_acc: 0.3005\n",
            "\n",
            "Epoch 00008: val_loss did not improve from 11.27386\n",
            "Epoch 9/50\n",
            "56/56 [==============================] - 24s 430ms/step - loss: 10.6568 - acc: 0.3388 - val_loss: 11.2739 - val_acc: 0.3005\n",
            "\n",
            "Epoch 00009: val_loss did not improve from 11.27386\n",
            "Epoch 10/50\n",
            "56/56 [==============================] - 24s 432ms/step - loss: 10.3488 - acc: 0.3579 - val_loss: 11.2739 - val_acc: 0.3005\n",
            "\n",
            "Epoch 00010: ReduceLROnPlateau reducing learning rate to 0.0001250000059371814.\n",
            "\n",
            "Epoch 00010: val_loss did not improve from 11.27386\n",
            "Epoch 11/50\n",
            "56/56 [==============================] - 24s 432ms/step - loss: 10.5265 - acc: 0.3469 - val_loss: 11.2739 - val_acc: 0.3005\n",
            "\n",
            "Epoch 00011: val_loss did not improve from 11.27386\n",
            "Epoch 12/50\n",
            "56/56 [==============================] - 24s 436ms/step - loss: 10.6187 - acc: 0.3412 - val_loss: 11.2739 - val_acc: 0.3005\n",
            "\n",
            "Epoch 00012: val_loss did not improve from 11.27386\n",
            "Epoch 13/50\n",
            "56/56 [==============================] - 24s 434ms/step - loss: 10.6121 - acc: 0.3416 - val_loss: 11.2739 - val_acc: 0.3005\n",
            "\n",
            "Epoch 00013: ReduceLROnPlateau reducing learning rate to 6.25000029685907e-05.\n",
            "\n",
            "Epoch 00013: val_loss did not improve from 11.27386\n",
            "Epoch 14/50\n",
            "56/56 [==============================] - 25s 440ms/step - loss: 10.5085 - acc: 0.3480 - val_loss: 11.2739 - val_acc: 0.3005\n",
            "\n",
            "Epoch 00014: val_loss did not improve from 11.27386\n",
            "Epoch 15/50\n",
            "56/56 [==============================] - 25s 445ms/step - loss: 10.6524 - acc: 0.3391 - val_loss: 11.2739 - val_acc: 0.3005\n",
            "\n",
            "Epoch 00015: val_loss did not improve from 11.27386\n",
            "Epoch 16/50\n",
            "56/56 [==============================] - 25s 443ms/step - loss: 10.4658 - acc: 0.3507 - val_loss: 11.2739 - val_acc: 0.3005\n",
            "\n",
            "Epoch 00016: ReduceLROnPlateau reducing learning rate to 3.125000148429535e-05.\n",
            "\n",
            "Epoch 00016: val_loss did not improve from 11.27386\n",
            "Epoch 17/50\n",
            "56/56 [==============================] - 25s 444ms/step - loss: 10.6164 - acc: 0.3413 - val_loss: 11.2739 - val_acc: 0.3005\n",
            "\n",
            "Epoch 00017: val_loss did not improve from 11.27386\n",
            "Epoch 18/50\n",
            "56/56 [==============================] - 25s 446ms/step - loss: 10.5738 - acc: 0.3440 - val_loss: 11.2739 - val_acc: 0.3005\n",
            "\n",
            "Epoch 00018: val_loss did not improve from 11.27386\n",
            "Epoch 19/50\n",
            "56/56 [==============================] - 25s 443ms/step - loss: 10.5895 - acc: 0.3430 - val_loss: 11.2739 - val_acc: 0.3005\n",
            "\n",
            "Epoch 00019: ReduceLROnPlateau reducing learning rate to 1.5625000742147677e-05.\n",
            "\n",
            "Epoch 00019: val_loss did not improve from 11.27386\n",
            "Epoch 20/50\n",
            "56/56 [==============================] - 25s 446ms/step - loss: 10.5671 - acc: 0.3444 - val_loss: 11.2739 - val_acc: 0.3005\n",
            "\n",
            "Epoch 00020: val_loss did not improve from 11.27386\n",
            "Epoch 21/50\n",
            "56/56 [==============================] - 25s 441ms/step - loss: 10.3741 - acc: 0.3564 - val_loss: 11.2739 - val_acc: 0.3005\n",
            "\n",
            "Epoch 00021: val_loss improved from 11.27386 to 11.27386, saving model to /content/aug_train2.h5\n",
            "Epoch 22/50\n",
            "56/56 [==============================] - 25s 447ms/step - loss: 10.7754 - acc: 0.3315 - val_loss: 11.2739 - val_acc: 0.3005\n",
            "\n",
            "Epoch 00022: ReduceLROnPlateau reducing learning rate to 1e-05.\n",
            "\n",
            "Epoch 00022: val_loss did not improve from 11.27386\n",
            "Epoch 23/50\n",
            "56/56 [==============================] - 25s 438ms/step - loss: 10.4034 - acc: 0.3545 - val_loss: 11.2739 - val_acc: 0.3005\n",
            "\n",
            "Epoch 00023: val_loss did not improve from 11.27386\n",
            "Epoch 24/50\n",
            "56/56 [==============================] - 25s 445ms/step - loss: 10.5984 - acc: 0.3425 - val_loss: 11.2739 - val_acc: 0.3005\n",
            "\n",
            "Epoch 00024: val_loss did not improve from 11.27386\n",
            "Epoch 25/50\n",
            "56/56 [==============================] - 25s 439ms/step - loss: 10.4365 - acc: 0.3525 - val_loss: 11.2739 - val_acc: 0.3005\n",
            "\n",
            "Epoch 00025: val_loss did not improve from 11.27386\n",
            "Epoch 26/50\n",
            "56/56 [==============================] - 25s 445ms/step - loss: 10.5219 - acc: 0.3472 - val_loss: 11.2739 - val_acc: 0.3005\n",
            "\n",
            "Epoch 00026: val_loss did not improve from 11.27386\n",
            "Epoch 27/50\n",
            "56/56 [==============================] - 25s 442ms/step - loss: 10.4905 - acc: 0.3491 - val_loss: 11.2739 - val_acc: 0.3005\n",
            "\n",
            "Epoch 00027: val_loss did not improve from 11.27386\n",
            "Epoch 28/50\n",
            "56/56 [==============================] - 25s 442ms/step - loss: 10.5378 - acc: 0.3462 - val_loss: 11.2739 - val_acc: 0.3005\n",
            "\n",
            "Epoch 00028: val_loss did not improve from 11.27386\n",
            "Epoch 29/50\n",
            "56/56 [==============================] - 25s 441ms/step - loss: 10.3802 - acc: 0.3560 - val_loss: 11.2739 - val_acc: 0.3005\n",
            "\n",
            "Epoch 00029: val_loss did not improve from 11.27386\n",
            "Epoch 30/50\n",
            "34/56 [=================>............] - ETA: 9s - loss: 10.9528 - acc: 0.3205"
          ],
          "name": "stdout"
        }
      ]
    },
    {
      "cell_type": "code",
      "metadata": {
        "id": "rtr71Jbpkeo1",
        "colab_type": "code",
        "colab": {}
      },
      "source": [
        "import matplotlib.pyplot as plt\n",
        "#plt.subplots(2,1)\n",
        "#plt.subplot(1, 2, 1)\n",
        "plt.plot(history.history['acc'])\n",
        "plt.plot(history.history['val_acc'])\n",
        "plt.ylabel(\"Accuracy\")\n",
        "plt.xlabel(\"Epoch\")\n",
        "plt.title(\"Model accuracy\")\n",
        "plt.legend(['train', 'test'], loc='upper left')\n",
        "plt.show()\n",
        "\n",
        "#plt.subplot(1, 2, 2)\n",
        "plt.plot(history.history['loss'])\n",
        "plt.plot(history.history['val_loss'])\n",
        "plt.title('model loss')\n",
        "plt.ylabel('loss')\n",
        "plt.xlabel('epoch')\n",
        "plt.legend(['train', 'test'], loc='upper left')\n",
        "\n",
        "plt.show()"
      ],
      "execution_count": 0,
      "outputs": []
    },
    {
      "cell_type": "code",
      "metadata": {
        "id": "c4vYd6e0szBu",
        "colab_type": "code",
        "colab": {}
      },
      "source": [
        "from keras.models import load_model\n",
        "net = load_model(\"/content/res_aug.h5\")\n",
        "\n",
        "predictions = net.predict(xtest)\n",
        "temp = predictions\n",
        "predictions = np.argmax(predictions, axis = 1)"
      ],
      "execution_count": 0,
      "outputs": []
    },
    {
      "cell_type": "code",
      "metadata": {
        "id": "C9PpTuzqtlaS",
        "colab_type": "code",
        "colab": {}
      },
      "source": [
        "sam_sub[\"healthy\"].values[:] = 0\n",
        "sam_sub[\"multiple_diseases\"].values[:] = 0\n",
        "sam_sub[\"rust\"].values[:] = 0\n",
        "sam_sub[\"scab\"].values[:] = 0\n",
        "\n",
        "for i in range(len(predictions)):\n",
        "  if predictions[i] == 0:\n",
        "    sam_sub[\"scab\"].values[i] = 1\n",
        "  elif predictions[i] == 1:\n",
        "    sam_sub[\"multiple_diseases\"].values[i] = 1\n",
        "  elif predictions[i] == 2:\n",
        "    sam_sub[\"healthy\"].values[i] = 1\n",
        "  elif predictions[i] == 3:\n",
        "    sam_sub[\"rust\"].values[i] = 1\n",
        "\n",
        "sam_sub.head()"
      ],
      "execution_count": 0,
      "outputs": []
    },
    {
      "cell_type": "code",
      "metadata": {
        "id": "Z7DB5cm533vO",
        "colab_type": "code",
        "colab": {}
      },
      "source": [
        "sam_sub.to_csv(\"/content/res_aug.csv\", index = False)"
      ],
      "execution_count": 0,
      "outputs": []
    }
  ]
}