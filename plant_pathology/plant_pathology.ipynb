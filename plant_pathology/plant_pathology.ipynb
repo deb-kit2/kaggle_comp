{
  "nbformat": 4,
  "nbformat_minor": 0,
  "metadata": {
    "colab": {
      "name": "plant_pathology.ipynb",
      "provenance": [],
      "collapsed_sections": [],
      "machine_shape": "hm",
      "authorship_tag": "ABX9TyMCP6rSaqjwIEJhX0ge6ser",
      "include_colab_link": true
    },
    "kernelspec": {
      "name": "python3",
      "display_name": "Python 3"
    }
  },
  "cells": [
    {
      "cell_type": "markdown",
      "metadata": {
        "id": "view-in-github",
        "colab_type": "text"
      },
      "source": [
        "<a href=\"https://colab.research.google.com/github/deb-kit2/kaggle_comp/blob/master/plant_pathology/plant_pathology.ipynb\" target=\"_parent\"><img src=\"https://colab.research.google.com/assets/colab-badge.svg\" alt=\"Open In Colab\"/></a>"
      ]
    },
    {
      "cell_type": "code",
      "metadata": {
        "id": "t1y6yQuFGe0H",
        "colab_type": "code",
        "outputId": "3401542d-e8a6-4406-e0ac-5c4e0a857109",
        "colab": {
          "base_uri": "https://localhost:8080/",
          "height": 54
        }
      },
      "source": [
        "from google.colab import drive\n",
        "drive.mount(\"/content/drive\")\n",
        "import os\n",
        "os.chdir(\"/content/drive/My Drive/plant_pathology_kaggle\")"
      ],
      "execution_count": 1,
      "outputs": [
        {
          "output_type": "stream",
          "text": [
            "Drive already mounted at /content/drive; to attempt to forcibly remount, call drive.mount(\"/content/drive\", force_remount=True).\n"
          ],
          "name": "stdout"
        }
      ]
    },
    {
      "cell_type": "code",
      "metadata": {
        "id": "wfF69T_vII5v",
        "colab_type": "code",
        "colab": {}
      },
      "source": [
        "import numpy as np\n",
        "import pandas as pd\n",
        "\n",
        "sam_sub = pd.read_csv('sample_submission.csv')\n",
        "train_csv = pd.read_csv('train.csv')\n",
        "test_csv = pd.read_csv('test.csv')"
      ],
      "execution_count": 0,
      "outputs": []
    },
    {
      "cell_type": "code",
      "metadata": {
        "id": "oLspOwtTY4W3",
        "colab_type": "code",
        "outputId": "8c78d14c-c9db-4fbc-f25b-dbb9f81d2972",
        "colab": {
          "base_uri": "https://localhost:8080/",
          "height": 204
        }
      },
      "source": [
        "train_csv.head()"
      ],
      "execution_count": 3,
      "outputs": [
        {
          "output_type": "execute_result",
          "data": {
            "text/html": [
              "<div>\n",
              "<style scoped>\n",
              "    .dataframe tbody tr th:only-of-type {\n",
              "        vertical-align: middle;\n",
              "    }\n",
              "\n",
              "    .dataframe tbody tr th {\n",
              "        vertical-align: top;\n",
              "    }\n",
              "\n",
              "    .dataframe thead th {\n",
              "        text-align: right;\n",
              "    }\n",
              "</style>\n",
              "<table border=\"1\" class=\"dataframe\">\n",
              "  <thead>\n",
              "    <tr style=\"text-align: right;\">\n",
              "      <th></th>\n",
              "      <th>image_id</th>\n",
              "      <th>healthy</th>\n",
              "      <th>multiple_diseases</th>\n",
              "      <th>rust</th>\n",
              "      <th>scab</th>\n",
              "    </tr>\n",
              "  </thead>\n",
              "  <tbody>\n",
              "    <tr>\n",
              "      <th>0</th>\n",
              "      <td>Train_0</td>\n",
              "      <td>0</td>\n",
              "      <td>0</td>\n",
              "      <td>0</td>\n",
              "      <td>1</td>\n",
              "    </tr>\n",
              "    <tr>\n",
              "      <th>1</th>\n",
              "      <td>Train_1</td>\n",
              "      <td>0</td>\n",
              "      <td>1</td>\n",
              "      <td>0</td>\n",
              "      <td>0</td>\n",
              "    </tr>\n",
              "    <tr>\n",
              "      <th>2</th>\n",
              "      <td>Train_2</td>\n",
              "      <td>1</td>\n",
              "      <td>0</td>\n",
              "      <td>0</td>\n",
              "      <td>0</td>\n",
              "    </tr>\n",
              "    <tr>\n",
              "      <th>3</th>\n",
              "      <td>Train_3</td>\n",
              "      <td>0</td>\n",
              "      <td>0</td>\n",
              "      <td>1</td>\n",
              "      <td>0</td>\n",
              "    </tr>\n",
              "    <tr>\n",
              "      <th>4</th>\n",
              "      <td>Train_4</td>\n",
              "      <td>1</td>\n",
              "      <td>0</td>\n",
              "      <td>0</td>\n",
              "      <td>0</td>\n",
              "    </tr>\n",
              "  </tbody>\n",
              "</table>\n",
              "</div>"
            ],
            "text/plain": [
              "  image_id  healthy  multiple_diseases  rust  scab\n",
              "0  Train_0        0                  0     0     1\n",
              "1  Train_1        0                  1     0     0\n",
              "2  Train_2        1                  0     0     0\n",
              "3  Train_3        0                  0     1     0\n",
              "4  Train_4        1                  0     0     0"
            ]
          },
          "metadata": {
            "tags": []
          },
          "execution_count": 3
        }
      ]
    },
    {
      "cell_type": "code",
      "metadata": {
        "id": "-CwyCE43aAvK",
        "colab_type": "code",
        "outputId": "1a796a5d-2be5-4c12-dd41-a7143228b1c7",
        "colab": {
          "base_uri": "https://localhost:8080/",
          "height": 204
        }
      },
      "source": [
        "def get_class(row): \n",
        "  if row['multiple_diseases'] == 1: \n",
        "    return 'multiple_diseases' \n",
        "  elif row['rust'] == 1: \n",
        "    return 'rust' \n",
        "  elif row['scab'] == 1: \n",
        "    return 'scab' \n",
        "  else: \n",
        "    return 'healthy' \n",
        "    \n",
        "train_csv[\"label\"] = train_csv.apply(get_class, axis=1) \n",
        "#train_csv.head()\n",
        "temp = pd.factorize(train_csv[\"label\"])\n",
        "train_csv[\"label\"] = temp[0]\n",
        "\n",
        "train_csv.head()"
      ],
      "execution_count": 4,
      "outputs": [
        {
          "output_type": "execute_result",
          "data": {
            "text/html": [
              "<div>\n",
              "<style scoped>\n",
              "    .dataframe tbody tr th:only-of-type {\n",
              "        vertical-align: middle;\n",
              "    }\n",
              "\n",
              "    .dataframe tbody tr th {\n",
              "        vertical-align: top;\n",
              "    }\n",
              "\n",
              "    .dataframe thead th {\n",
              "        text-align: right;\n",
              "    }\n",
              "</style>\n",
              "<table border=\"1\" class=\"dataframe\">\n",
              "  <thead>\n",
              "    <tr style=\"text-align: right;\">\n",
              "      <th></th>\n",
              "      <th>image_id</th>\n",
              "      <th>healthy</th>\n",
              "      <th>multiple_diseases</th>\n",
              "      <th>rust</th>\n",
              "      <th>scab</th>\n",
              "      <th>label</th>\n",
              "    </tr>\n",
              "  </thead>\n",
              "  <tbody>\n",
              "    <tr>\n",
              "      <th>0</th>\n",
              "      <td>Train_0</td>\n",
              "      <td>0</td>\n",
              "      <td>0</td>\n",
              "      <td>0</td>\n",
              "      <td>1</td>\n",
              "      <td>0</td>\n",
              "    </tr>\n",
              "    <tr>\n",
              "      <th>1</th>\n",
              "      <td>Train_1</td>\n",
              "      <td>0</td>\n",
              "      <td>1</td>\n",
              "      <td>0</td>\n",
              "      <td>0</td>\n",
              "      <td>1</td>\n",
              "    </tr>\n",
              "    <tr>\n",
              "      <th>2</th>\n",
              "      <td>Train_2</td>\n",
              "      <td>1</td>\n",
              "      <td>0</td>\n",
              "      <td>0</td>\n",
              "      <td>0</td>\n",
              "      <td>2</td>\n",
              "    </tr>\n",
              "    <tr>\n",
              "      <th>3</th>\n",
              "      <td>Train_3</td>\n",
              "      <td>0</td>\n",
              "      <td>0</td>\n",
              "      <td>1</td>\n",
              "      <td>0</td>\n",
              "      <td>3</td>\n",
              "    </tr>\n",
              "    <tr>\n",
              "      <th>4</th>\n",
              "      <td>Train_4</td>\n",
              "      <td>1</td>\n",
              "      <td>0</td>\n",
              "      <td>0</td>\n",
              "      <td>0</td>\n",
              "      <td>2</td>\n",
              "    </tr>\n",
              "  </tbody>\n",
              "</table>\n",
              "</div>"
            ],
            "text/plain": [
              "  image_id  healthy  multiple_diseases  rust  scab  label\n",
              "0  Train_0        0                  0     0     1      0\n",
              "1  Train_1        0                  1     0     0      1\n",
              "2  Train_2        1                  0     0     0      2\n",
              "3  Train_3        0                  0     1     0      3\n",
              "4  Train_4        1                  0     0     0      2"
            ]
          },
          "metadata": {
            "tags": []
          },
          "execution_count": 4
        }
      ]
    },
    {
      "cell_type": "code",
      "metadata": {
        "id": "rlU_7tD1abwA",
        "colab_type": "code",
        "outputId": "32f4b2f2-0367-4792-8859-ccdbccd22004",
        "colab": {
          "base_uri": "https://localhost:8080/",
          "height": 199
        }
      },
      "source": [
        "reference_map = {\"scab\" : 0, \"multiple_diseases\" : 1, \"healthy\" : 2, \"rust\" : 3}\n",
        "y = train_csv[\"label\"]\n",
        "\n",
        "from keras.utils import to_categorical\n",
        "y = to_categorical(y, 4)\n",
        "y"
      ],
      "execution_count": 5,
      "outputs": [
        {
          "output_type": "stream",
          "text": [
            "Using TensorFlow backend.\n"
          ],
          "name": "stderr"
        },
        {
          "output_type": "display_data",
          "data": {
            "text/html": [
              "<p style=\"color: red;\">\n",
              "The default version of TensorFlow in Colab will soon switch to TensorFlow 2.x.<br>\n",
              "We recommend you <a href=\"https://www.tensorflow.org/guide/migrate\" target=\"_blank\">upgrade</a> now \n",
              "or ensure your notebook will continue to use TensorFlow 1.x via the <code>%tensorflow_version 1.x</code> magic:\n",
              "<a href=\"https://colab.research.google.com/notebooks/tensorflow_version.ipynb\" target=\"_blank\">more info</a>.</p>\n"
            ],
            "text/plain": [
              "<IPython.core.display.HTML object>"
            ]
          },
          "metadata": {
            "tags": []
          }
        },
        {
          "output_type": "execute_result",
          "data": {
            "text/plain": [
              "array([[1., 0., 0., 0.],\n",
              "       [0., 1., 0., 0.],\n",
              "       [0., 0., 1., 0.],\n",
              "       ...,\n",
              "       [0., 0., 1., 0.],\n",
              "       [0., 0., 0., 1.],\n",
              "       [1., 0., 0., 0.]], dtype=float32)"
            ]
          },
          "metadata": {
            "tags": []
          },
          "execution_count": 5
        }
      ]
    },
    {
      "cell_type": "code",
      "metadata": {
        "id": "g9fwjtEebUA4",
        "colab_type": "code",
        "outputId": "2c897712-3452-4182-8a94-719c202ae8c1",
        "colab": {
          "base_uri": "https://localhost:8080/",
          "height": 204
        }
      },
      "source": [
        "test_csv.head()"
      ],
      "execution_count": 6,
      "outputs": [
        {
          "output_type": "execute_result",
          "data": {
            "text/html": [
              "<div>\n",
              "<style scoped>\n",
              "    .dataframe tbody tr th:only-of-type {\n",
              "        vertical-align: middle;\n",
              "    }\n",
              "\n",
              "    .dataframe tbody tr th {\n",
              "        vertical-align: top;\n",
              "    }\n",
              "\n",
              "    .dataframe thead th {\n",
              "        text-align: right;\n",
              "    }\n",
              "</style>\n",
              "<table border=\"1\" class=\"dataframe\">\n",
              "  <thead>\n",
              "    <tr style=\"text-align: right;\">\n",
              "      <th></th>\n",
              "      <th>image_id</th>\n",
              "    </tr>\n",
              "  </thead>\n",
              "  <tbody>\n",
              "    <tr>\n",
              "      <th>0</th>\n",
              "      <td>Test_0</td>\n",
              "    </tr>\n",
              "    <tr>\n",
              "      <th>1</th>\n",
              "      <td>Test_1</td>\n",
              "    </tr>\n",
              "    <tr>\n",
              "      <th>2</th>\n",
              "      <td>Test_2</td>\n",
              "    </tr>\n",
              "    <tr>\n",
              "      <th>3</th>\n",
              "      <td>Test_3</td>\n",
              "    </tr>\n",
              "    <tr>\n",
              "      <th>4</th>\n",
              "      <td>Test_4</td>\n",
              "    </tr>\n",
              "  </tbody>\n",
              "</table>\n",
              "</div>"
            ],
            "text/plain": [
              "  image_id\n",
              "0   Test_0\n",
              "1   Test_1\n",
              "2   Test_2\n",
              "3   Test_3\n",
              "4   Test_4"
            ]
          },
          "metadata": {
            "tags": []
          },
          "execution_count": 6
        }
      ]
    },
    {
      "cell_type": "code",
      "metadata": {
        "id": "H1EQEzuWayzN",
        "colab_type": "code",
        "colab": {}
      },
      "source": [
        "path = '/content/drive/My Drive/plant_pathology_kaggle/images/'\n",
        "image_list = os.listdir(path)\n",
        "\n",
        "train_images = train_csv[\"image_id\"]\n",
        "test_images = test_csv[\"image_id\"]\n",
        "\n",
        "train_images = np.asarray(train_images) + \".jpg\"\n",
        "test_images = np.asarray(test_images) + \".jpg\""
      ],
      "execution_count": 0,
      "outputs": []
    },
    {
      "cell_type": "code",
      "metadata": {
        "id": "G0RitlPVdRee",
        "colab_type": "code",
        "outputId": "512bfcf9-2469-4031-e165-a4703d2242e9",
        "colab": {
          "base_uri": "https://localhost:8080/",
          "height": 51
        }
      },
      "source": [
        "train_images"
      ],
      "execution_count": 8,
      "outputs": [
        {
          "output_type": "execute_result",
          "data": {
            "text/plain": [
              "array(['Train_0.jpg', 'Train_1.jpg', 'Train_2.jpg', ..., 'Train_1818.jpg',\n",
              "       'Train_1819.jpg', 'Train_1820.jpg'], dtype=object)"
            ]
          },
          "metadata": {
            "tags": []
          },
          "execution_count": 8
        }
      ]
    },
    {
      "cell_type": "code",
      "metadata": {
        "id": "W5k0_E5kb6Ps",
        "colab_type": "code",
        "colab": {
          "base_uri": "https://localhost:8080/",
          "height": 54
        },
        "outputId": "22274841-0870-4d6d-9773-ffa7a50abc7b"
      },
      "source": [
        "image_height = 150\n",
        "image_width = 150\n",
        "channels = 3\n",
        "\n",
        "import cv2\n",
        "xtrain = np.zeros((len(y), image_height, image_width, channels))\n",
        "xtest = np.zeros((len(y), image_height, image_width, channels))\n",
        "\n",
        "for i in range(len(y)):\n",
        "  imgtrain = train_images[i]\n",
        "  imgtest = test_images[i]\n",
        "  #path = '/content/drive/My Drive/plant_pathology_kaggle/images/' + img\n",
        "  img = cv2.imread('/content/drive/My Drive/plant_pathology_kaggle/images/'+imgtrain)\n",
        "  img = cv2.cvtColor(img, cv2.COLOR_BGR2RGB)\n",
        "  img = cv2.resize(img, (image_height, image_width))\n",
        "  xtrain[i] = img\n",
        "  img = cv2.imread('/content/drive/My Drive/plant_pathology_kaggle/images/'+imgtest)\n",
        "  img = cv2.cvtColor(img, cv2.COLOR_BGR2RGB)\n",
        "  img = cv2.resize(img, (image_height, image_width))\n",
        "  xtest[i] = img\n",
        "\n",
        "\"\"\"\n",
        "for i in range(len(y)):\n",
        "  img = test_images[i]\n",
        "  path = '/content/drive/My Drive/plant_pathology_kaggle/images/' + img\n",
        "  img = cv2.imread(path)\n",
        "  img = cv2.cvtColor(img, cv2.COLOR_BGR2RGB)\n",
        "  img = cv2.resize(img, (image_height, image_width))\n",
        "  xtest[i] = img\n",
        "\"\"\""
      ],
      "execution_count": 9,
      "outputs": [
        {
          "output_type": "execute_result",
          "data": {
            "text/plain": [
              "\"\\nfor i in range(len(y)):\\n  img = test_images[i]\\n  path = '/content/drive/My Drive/plant_pathology_kaggle/images/' + img\\n  img = cv2.imread(path)\\n  img = cv2.cvtColor(img, cv2.COLOR_BGR2RGB)\\n  img = cv2.resize(img, (image_height, image_width))\\n  xtest[i] = img\\n\""
            ]
          },
          "metadata": {
            "tags": []
          },
          "execution_count": 9
        }
      ]
    },
    {
      "cell_type": "code",
      "metadata": {
        "id": "EJChdIYWeCsf",
        "colab_type": "code",
        "colab": {
          "base_uri": "https://localhost:8080/",
          "height": 51
        },
        "outputId": "74637543-45c4-4f09-b0f1-05a315de31c9"
      },
      "source": [
        "print(xtrain.shape)\n",
        "print(xtest.shape)"
      ],
      "execution_count": 10,
      "outputs": [
        {
          "output_type": "stream",
          "text": [
            "(1821, 150, 150, 3)\n",
            "(1821, 150, 150, 3)\n"
          ],
          "name": "stdout"
        }
      ]
    },
    {
      "cell_type": "code",
      "metadata": {
        "id": "iFSyaeG2hSpO",
        "colab_type": "code",
        "colab": {}
      },
      "source": [
        "xtrain /= 255\n",
        "xtest /= 255"
      ],
      "execution_count": 0,
      "outputs": []
    },
    {
      "cell_type": "code",
      "metadata": {
        "id": "VvFt_UxT555e",
        "colab_type": "code",
        "colab": {
          "base_uri": "https://localhost:8080/",
          "height": 156
        },
        "outputId": "2359629b-3233-4817-da47-23e498a8a81b"
      },
      "source": [
        "from imblearn.over_sampling import RandomOverSampler\n",
        "\n",
        "ros = RandomOverSampler(random_state = 267)\n",
        "\n",
        "x_res, y_res = ros.fit_resample(xtrain.reshape((-1, image_height * image_width * channels)), y)\n",
        "x_res = x_res.reshape((-1, image_height, image_width, channels))\n",
        "\n",
        "x_res.shape, y_res.sum(axis=0)"
      ],
      "execution_count": 12,
      "outputs": [
        {
          "output_type": "stream",
          "text": [
            "/usr/local/lib/python3.6/dist-packages/sklearn/externals/six.py:31: FutureWarning: The module is deprecated in version 0.21 and will be removed in version 0.23 since we've dropped support for Python 2.7. Please rely on the official version of six (https://pypi.org/project/six/).\n",
            "  \"(https://pypi.org/project/six/).\", FutureWarning)\n",
            "/usr/local/lib/python3.6/dist-packages/sklearn/utils/deprecation.py:144: FutureWarning: The sklearn.neighbors.base module is  deprecated in version 0.22 and will be removed in version 0.24. The corresponding classes / functions should instead be imported from sklearn.neighbors. Anything that cannot be imported from sklearn.neighbors is now part of the private API.\n",
            "  warnings.warn(message, FutureWarning)\n",
            "/usr/local/lib/python3.6/dist-packages/sklearn/utils/deprecation.py:87: FutureWarning: Function safe_indexing is deprecated; safe_indexing is deprecated in version 0.22 and will be removed in version 0.24.\n",
            "  warnings.warn(msg, category=FutureWarning)\n"
          ],
          "name": "stderr"
        },
        {
          "output_type": "execute_result",
          "data": {
            "text/plain": [
              "((2488, 150, 150, 3), array([622, 622, 622, 622]))"
            ]
          },
          "metadata": {
            "tags": []
          },
          "execution_count": 12
        }
      ]
    },
    {
      "cell_type": "code",
      "metadata": {
        "id": "tDxiFVcph42m",
        "colab_type": "code",
        "colab": {}
      },
      "source": [
        "from sklearn.model_selection import train_test_split\n",
        "xtrain, xcv, ytrain, ycv = train_test_split(x_res, y_res, test_size = 0.1, random_state = 267)"
      ],
      "execution_count": 0,
      "outputs": []
    },
    {
      "cell_type": "markdown",
      "metadata": {
        "id": "FREO0ZHdjSIP",
        "colab_type": "text"
      },
      "source": [
        "####Thats all basic pre-procesing.\n",
        "Things to try next : \n",
        "  #iii. transfer learning\n",
        "  #iv. without reshaping "
      ]
    },
    {
      "cell_type": "code",
      "metadata": {
        "id": "AhM9IazpjOmp",
        "colab_type": "code",
        "colab": {
          "base_uri": "https://localhost:8080/",
          "height": 258
        },
        "outputId": "e4450bd5-9861-4945-c88d-2b949bb4622c"
      },
      "source": [
        "from keras.layers import Conv2D, MaxPool2D, Dropout, Flatten, Dense\n",
        "from keras import models\n",
        "\n",
        "model = models.Sequential()\n",
        "model.add(Conv2D(filters = 32, kernel_size = (3,3), padding = \"same\", \n",
        "                 activation = \"relu\", input_shape = (image_height, image_width, channels)))\n",
        "model.add(MaxPool2D(pool_size=(2,2)))\n",
        "#model.add(MaxPool2D(pool_size=(2,2)))\n",
        "#model.add(Dropout(0.25))\n",
        "\n",
        "model.add(Conv2D(filters = 64, kernel_size = (3,3),padding = \"same\", \n",
        "                 activation ='relu'))\n",
        "model.add(MaxPool2D(pool_size=(2,2)))\n",
        "#model.add(MaxPool2D(pool_size=(2,2)))\n",
        "#model.add(Dropout(0.25))\n",
        "\n",
        "\n",
        "model.add(Conv2D(filters = 128, kernel_size = (3,3),padding = \"same\", \n",
        "                 activation ='relu'))\n",
        "model.add(MaxPool2D(pool_size=(2,2)))\n",
        "#model.add(Dropout(0.25))\n",
        "\n",
        "model.add(Conv2D(filters = 128, kernel_size = (3,3),padding = \"same\", \n",
        "                 activation ='relu'))\n",
        "model.add(MaxPool2D(pool_size=(2,2)))\n",
        "#model.add(Dropout(0.25))\n",
        "\n",
        "#model.add(Conv2D(filters = 256, kernel_size = (3,3),padding = \"same\", \n",
        "#                 activation ='relu'))\n",
        "#model.add(MaxPool2D(pool_size=(2,2), strides=(2,2)))\n",
        "#model.add(Dropout(0.25))\n",
        "\n",
        "#model.add(Conv2D(filters = 512, kernel_size = (3,3),padding = \"same\", \n",
        "#                 activation ='relu'))\n",
        "#model.add(MaxPool2D(pool_size=(2,2), strides=(2,2)))\n",
        "\n",
        "model.add(Dropout(0.25))\n",
        "model.add(Flatten())\n",
        "model.add(Dense(512, activation = \"relu\"))\n",
        "#model.add(Dropout(0.5))\n",
        "model.add(Dense(4, activation = \"softmax\"))"
      ],
      "execution_count": 14,
      "outputs": [
        {
          "output_type": "stream",
          "text": [
            "WARNING:tensorflow:From /usr/local/lib/python3.6/dist-packages/keras/backend/tensorflow_backend.py:66: The name tf.get_default_graph is deprecated. Please use tf.compat.v1.get_default_graph instead.\n",
            "\n",
            "WARNING:tensorflow:From /usr/local/lib/python3.6/dist-packages/keras/backend/tensorflow_backend.py:541: The name tf.placeholder is deprecated. Please use tf.compat.v1.placeholder instead.\n",
            "\n",
            "WARNING:tensorflow:From /usr/local/lib/python3.6/dist-packages/keras/backend/tensorflow_backend.py:4432: The name tf.random_uniform is deprecated. Please use tf.random.uniform instead.\n",
            "\n",
            "WARNING:tensorflow:From /usr/local/lib/python3.6/dist-packages/keras/backend/tensorflow_backend.py:4267: The name tf.nn.max_pool is deprecated. Please use tf.nn.max_pool2d instead.\n",
            "\n",
            "WARNING:tensorflow:From /usr/local/lib/python3.6/dist-packages/keras/backend/tensorflow_backend.py:148: The name tf.placeholder_with_default is deprecated. Please use tf.compat.v1.placeholder_with_default instead.\n",
            "\n",
            "WARNING:tensorflow:From /usr/local/lib/python3.6/dist-packages/keras/backend/tensorflow_backend.py:3733: calling dropout (from tensorflow.python.ops.nn_ops) with keep_prob is deprecated and will be removed in a future version.\n",
            "Instructions for updating:\n",
            "Please use `rate` instead of `keep_prob`. Rate should be set to `rate = 1 - keep_prob`.\n"
          ],
          "name": "stdout"
        }
      ]
    },
    {
      "cell_type": "code",
      "metadata": {
        "id": "x5UI4e09nG-K",
        "colab_type": "code",
        "colab": {
          "base_uri": "https://localhost:8080/",
          "height": 105
        },
        "outputId": "87ce20c3-167d-4ff8-f066-56880606a31d"
      },
      "source": [
        "from keras.optimizers import RMSprop\n",
        "opti = RMSprop(lr = 1e-3)\n",
        "model.compile(optimizer = opti, loss = \"categorical_crossentropy\", metrics = [\"accuracy\"])\n",
        "\n",
        "from keras.callbacks import ReduceLROnPlateau\n",
        "learning_rate_reduction = ReduceLROnPlateau(monitor='val_acc', patience=3, \n",
        "                                            verbose=1, factor=0.5, min_lr = 1e-10)\n",
        "\n",
        "from keras.callbacks import ModelCheckpoint\n",
        "checkpoint = ModelCheckpoint(filepath = \"/content/res_aug.h5\", \n",
        "                             save_best_only = True, monitor = \"val_loss\",\n",
        "                             verbose = 1)"
      ],
      "execution_count": 15,
      "outputs": [
        {
          "output_type": "stream",
          "text": [
            "WARNING:tensorflow:From /usr/local/lib/python3.6/dist-packages/keras/optimizers.py:793: The name tf.train.Optimizer is deprecated. Please use tf.compat.v1.train.Optimizer instead.\n",
            "\n",
            "WARNING:tensorflow:From /usr/local/lib/python3.6/dist-packages/keras/backend/tensorflow_backend.py:3576: The name tf.log is deprecated. Please use tf.math.log instead.\n",
            "\n"
          ],
          "name": "stdout"
        }
      ]
    },
    {
      "cell_type": "code",
      "metadata": {
        "id": "xovH2SZ-UgYC",
        "colab_type": "code",
        "colab": {}
      },
      "source": [
        "from keras.preprocessing.image import ImageDataGenerator\n",
        "\n",
        "datagen = ImageDataGenerator(rotation_range = 45, width_shift_range = 0.2, height_shift_range = 0.2,\n",
        "                             zoom_range = 0.2, horizontal_flip = True, vertical_flip = True)\n",
        "\n",
        "datagen.fit(xtrain)\n",
        "\n",
        "train_size = len(ytrain)"
      ],
      "execution_count": 0,
      "outputs": []
    },
    {
      "cell_type": "code",
      "metadata": {
        "id": "TdWLol8on9sk",
        "colab_type": "code",
        "colab": {
          "base_uri": "https://localhost:8080/",
          "height": 1000
        },
        "outputId": "e203e9b0-2cf2-4a44-de76-2a3f648036d3"
      },
      "source": [
        "history = model.fit_generator(datagen.flow(x = xtrain, y = ytrain, batch_size = 32), \n",
        "                    epochs = 100, steps_per_epoch = train_size//32, \n",
        "                    validation_data = (xcv, ycv), \n",
        "                    callbacks = [learning_rate_reduction, checkpoint])"
      ],
      "execution_count": 17,
      "outputs": [
        {
          "output_type": "stream",
          "text": [
            "WARNING:tensorflow:From /tensorflow-1.15.0/python3.6/tensorflow_core/python/ops/math_grad.py:1424: where (from tensorflow.python.ops.array_ops) is deprecated and will be removed in a future version.\n",
            "Instructions for updating:\n",
            "Use tf.where in 2.0, which has the same broadcast rule as np.where\n",
            "WARNING:tensorflow:From /usr/local/lib/python3.6/dist-packages/keras/backend/tensorflow_backend.py:1033: The name tf.assign_add is deprecated. Please use tf.compat.v1.assign_add instead.\n",
            "\n",
            "WARNING:tensorflow:From /usr/local/lib/python3.6/dist-packages/keras/backend/tensorflow_backend.py:1020: The name tf.assign is deprecated. Please use tf.compat.v1.assign instead.\n",
            "\n",
            "WARNING:tensorflow:From /usr/local/lib/python3.6/dist-packages/keras/backend/tensorflow_backend.py:3005: The name tf.Session is deprecated. Please use tf.compat.v1.Session instead.\n",
            "\n",
            "Epoch 1/100\n",
            "WARNING:tensorflow:From /usr/local/lib/python3.6/dist-packages/keras/backend/tensorflow_backend.py:190: The name tf.get_default_session is deprecated. Please use tf.compat.v1.get_default_session instead.\n",
            "\n",
            "WARNING:tensorflow:From /usr/local/lib/python3.6/dist-packages/keras/backend/tensorflow_backend.py:197: The name tf.ConfigProto is deprecated. Please use tf.compat.v1.ConfigProto instead.\n",
            "\n",
            "WARNING:tensorflow:From /usr/local/lib/python3.6/dist-packages/keras/backend/tensorflow_backend.py:207: The name tf.global_variables is deprecated. Please use tf.compat.v1.global_variables instead.\n",
            "\n",
            "WARNING:tensorflow:From /usr/local/lib/python3.6/dist-packages/keras/backend/tensorflow_backend.py:216: The name tf.is_variable_initialized is deprecated. Please use tf.compat.v1.is_variable_initialized instead.\n",
            "\n",
            "WARNING:tensorflow:From /usr/local/lib/python3.6/dist-packages/keras/backend/tensorflow_backend.py:223: The name tf.variables_initializer is deprecated. Please use tf.compat.v1.variables_initializer instead.\n",
            "\n",
            "69/69 [==============================] - 67s 971ms/step - loss: 1.6090 - acc: 0.2574 - val_loss: 1.3847 - val_acc: 0.2530\n",
            "\n",
            "Epoch 00001: val_loss improved from inf to 1.38468, saving model to /content/res_aug.h5\n",
            "Epoch 2/100\n",
            "69/69 [==============================] - 66s 957ms/step - loss: 1.3949 - acc: 0.2628 - val_loss: 1.3810 - val_acc: 0.3173\n",
            "\n",
            "Epoch 00002: val_loss improved from 1.38468 to 1.38096, saving model to /content/res_aug.h5\n",
            "Epoch 3/100\n",
            "69/69 [==============================] - 66s 956ms/step - loss: 1.3887 - acc: 0.2524 - val_loss: 1.3915 - val_acc: 0.2570\n",
            "\n",
            "Epoch 00003: val_loss did not improve from 1.38096\n",
            "Epoch 4/100\n",
            "69/69 [==============================] - 66s 950ms/step - loss: 1.3989 - acc: 0.2899 - val_loss: 1.3618 - val_acc: 0.3333\n",
            "\n",
            "Epoch 00004: val_loss improved from 1.38096 to 1.36180, saving model to /content/res_aug.h5\n",
            "Epoch 5/100\n",
            "69/69 [==============================] - 66s 951ms/step - loss: 1.4665 - acc: 0.2944 - val_loss: 1.3183 - val_acc: 0.3655\n",
            "\n",
            "Epoch 00005: val_loss improved from 1.36180 to 1.31831, saving model to /content/res_aug.h5\n",
            "Epoch 6/100\n",
            "69/69 [==============================] - 66s 951ms/step - loss: 1.3570 - acc: 0.3221 - val_loss: 1.3294 - val_acc: 0.3454\n",
            "\n",
            "Epoch 00006: val_loss did not improve from 1.31831\n",
            "Epoch 7/100\n",
            "69/69 [==============================] - 66s 950ms/step - loss: 1.3376 - acc: 0.3741 - val_loss: 1.2318 - val_acc: 0.4257\n",
            "\n",
            "Epoch 00007: val_loss improved from 1.31831 to 1.23184, saving model to /content/res_aug.h5\n",
            "Epoch 8/100\n",
            "69/69 [==============================] - 65s 948ms/step - loss: 1.2476 - acc: 0.4275 - val_loss: 1.0977 - val_acc: 0.5542\n",
            "\n",
            "Epoch 00008: val_loss improved from 1.23184 to 1.09768, saving model to /content/res_aug.h5\n",
            "Epoch 9/100\n",
            "69/69 [==============================] - 66s 963ms/step - loss: 1.1118 - acc: 0.5093 - val_loss: 0.8880 - val_acc: 0.6145\n",
            "\n",
            "Epoch 00009: val_loss improved from 1.09768 to 0.88800, saving model to /content/res_aug.h5\n",
            "Epoch 10/100\n",
            "69/69 [==============================] - 66s 954ms/step - loss: 1.0220 - acc: 0.5414 - val_loss: 0.9338 - val_acc: 0.6386\n",
            "\n",
            "Epoch 00010: val_loss did not improve from 0.88800\n",
            "Epoch 11/100\n",
            "69/69 [==============================] - 66s 954ms/step - loss: 0.9460 - acc: 0.5773 - val_loss: 0.9248 - val_acc: 0.5582\n",
            "\n",
            "Epoch 00011: val_loss did not improve from 0.88800\n",
            "Epoch 12/100\n",
            "69/69 [==============================] - 66s 954ms/step - loss: 0.9348 - acc: 0.5954 - val_loss: 0.7256 - val_acc: 0.6787\n",
            "\n",
            "Epoch 00012: val_loss improved from 0.88800 to 0.72561, saving model to /content/res_aug.h5\n",
            "Epoch 13/100\n",
            "69/69 [==============================] - 66s 955ms/step - loss: 0.8796 - acc: 0.6067 - val_loss: 0.8496 - val_acc: 0.5984\n",
            "\n",
            "Epoch 00013: val_loss did not improve from 0.72561\n",
            "Epoch 14/100\n",
            "69/69 [==============================] - 66s 955ms/step - loss: 0.8503 - acc: 0.6185 - val_loss: 0.6910 - val_acc: 0.7068\n",
            "\n",
            "Epoch 00014: val_loss improved from 0.72561 to 0.69104, saving model to /content/res_aug.h5\n",
            "Epoch 15/100\n",
            "69/69 [==============================] - 66s 954ms/step - loss: 0.8386 - acc: 0.6448 - val_loss: 0.9419 - val_acc: 0.6104\n",
            "\n",
            "Epoch 00015: val_loss did not improve from 0.69104\n",
            "Epoch 16/100\n",
            "69/69 [==============================] - 66s 953ms/step - loss: 0.7926 - acc: 0.6593 - val_loss: 0.6417 - val_acc: 0.7590\n",
            "\n",
            "Epoch 00016: val_loss improved from 0.69104 to 0.64169, saving model to /content/res_aug.h5\n",
            "Epoch 17/100\n",
            "69/69 [==============================] - 66s 953ms/step - loss: 0.7897 - acc: 0.6569 - val_loss: 0.5980 - val_acc: 0.7510\n",
            "\n",
            "Epoch 00017: val_loss improved from 0.64169 to 0.59795, saving model to /content/res_aug.h5\n",
            "Epoch 18/100\n",
            "69/69 [==============================] - 66s 952ms/step - loss: 0.7723 - acc: 0.6898 - val_loss: 0.7023 - val_acc: 0.6988\n",
            "\n",
            "Epoch 00018: val_loss did not improve from 0.59795\n",
            "Epoch 19/100\n",
            "69/69 [==============================] - 66s 954ms/step - loss: 0.7568 - acc: 0.6831 - val_loss: 0.5626 - val_acc: 0.7631\n",
            "\n",
            "Epoch 00019: val_loss improved from 0.59795 to 0.56261, saving model to /content/res_aug.h5\n",
            "Epoch 20/100\n",
            "69/69 [==============================] - 66s 958ms/step - loss: 0.7116 - acc: 0.6983 - val_loss: 0.5227 - val_acc: 0.7952\n",
            "\n",
            "Epoch 00020: val_loss improved from 0.56261 to 0.52271, saving model to /content/res_aug.h5\n",
            "Epoch 21/100\n",
            "69/69 [==============================] - 66s 959ms/step - loss: 0.7175 - acc: 0.7154 - val_loss: 0.6215 - val_acc: 0.7390\n",
            "\n",
            "Epoch 00021: val_loss did not improve from 0.52271\n",
            "Epoch 22/100\n",
            "69/69 [==============================] - 66s 957ms/step - loss: 0.6483 - acc: 0.7405 - val_loss: 0.6268 - val_acc: 0.7349\n",
            "\n",
            "Epoch 00022: val_loss did not improve from 0.52271\n",
            "Epoch 23/100\n",
            "69/69 [==============================] - 67s 969ms/step - loss: 0.6445 - acc: 0.7448 - val_loss: 0.5273 - val_acc: 0.8273\n",
            "\n",
            "Epoch 00023: val_loss did not improve from 0.52271\n",
            "Epoch 24/100\n",
            "69/69 [==============================] - 66s 959ms/step - loss: 0.6359 - acc: 0.7450 - val_loss: 0.5644 - val_acc: 0.7992\n",
            "\n",
            "Epoch 00024: val_loss did not improve from 0.52271\n",
            "Epoch 25/100\n",
            "69/69 [==============================] - 66s 957ms/step - loss: 0.6039 - acc: 0.7643 - val_loss: 0.6324 - val_acc: 0.7430\n",
            "\n",
            "Epoch 00025: val_loss did not improve from 0.52271\n",
            "Epoch 26/100\n",
            "69/69 [==============================] - 66s 954ms/step - loss: 0.5934 - acc: 0.7686 - val_loss: 0.6494 - val_acc: 0.7309\n",
            "\n",
            "Epoch 00026: ReduceLROnPlateau reducing learning rate to 0.0005000000237487257.\n",
            "\n",
            "Epoch 00026: val_loss did not improve from 0.52271\n",
            "Epoch 27/100\n",
            "69/69 [==============================] - 66s 952ms/step - loss: 0.4598 - acc: 0.8210 - val_loss: 0.3956 - val_acc: 0.8675\n",
            "\n",
            "Epoch 00027: val_loss improved from 0.52271 to 0.39562, saving model to /content/res_aug.h5\n",
            "Epoch 28/100\n",
            "69/69 [==============================] - 66s 954ms/step - loss: 0.4328 - acc: 0.8395 - val_loss: 0.3868 - val_acc: 0.8675\n",
            "\n",
            "Epoch 00028: val_loss improved from 0.39562 to 0.38679, saving model to /content/res_aug.h5\n",
            "Epoch 29/100\n",
            "69/69 [==============================] - 66s 959ms/step - loss: 0.4236 - acc: 0.8432 - val_loss: 0.4138 - val_acc: 0.8675\n",
            "\n",
            "Epoch 00029: val_loss did not improve from 0.38679\n",
            "Epoch 30/100\n",
            "69/69 [==============================] - 66s 956ms/step - loss: 0.4012 - acc: 0.8510 - val_loss: 0.3449 - val_acc: 0.8755\n",
            "\n",
            "Epoch 00030: val_loss improved from 0.38679 to 0.34493, saving model to /content/res_aug.h5\n",
            "Epoch 31/100\n",
            "69/69 [==============================] - 66s 956ms/step - loss: 0.4163 - acc: 0.8491 - val_loss: 0.3615 - val_acc: 0.8916\n",
            "\n",
            "Epoch 00031: val_loss did not improve from 0.34493\n",
            "Epoch 32/100\n",
            "69/69 [==============================] - 66s 957ms/step - loss: 0.4103 - acc: 0.8464 - val_loss: 0.3858 - val_acc: 0.8795\n",
            "\n",
            "Epoch 00032: val_loss did not improve from 0.34493\n",
            "Epoch 33/100\n",
            "69/69 [==============================] - 66s 958ms/step - loss: 0.4075 - acc: 0.8424 - val_loss: 0.3108 - val_acc: 0.9116\n",
            "\n",
            "Epoch 00033: val_loss improved from 0.34493 to 0.31081, saving model to /content/res_aug.h5\n",
            "Epoch 34/100\n",
            "69/69 [==============================] - 66s 962ms/step - loss: 0.3701 - acc: 0.8586 - val_loss: 0.3221 - val_acc: 0.8876\n",
            "\n",
            "Epoch 00034: val_loss did not improve from 0.31081\n",
            "Epoch 35/100\n",
            "69/69 [==============================] - 66s 960ms/step - loss: 0.3928 - acc: 0.8546 - val_loss: 0.4222 - val_acc: 0.8514\n",
            "\n",
            "Epoch 00035: val_loss did not improve from 0.31081\n",
            "Epoch 36/100\n",
            "69/69 [==============================] - 66s 960ms/step - loss: 0.3662 - acc: 0.8591 - val_loss: 0.4142 - val_acc: 0.8434\n",
            "\n",
            "Epoch 00036: ReduceLROnPlateau reducing learning rate to 0.0002500000118743628.\n",
            "\n",
            "Epoch 00036: val_loss did not improve from 0.31081\n",
            "Epoch 37/100\n",
            "69/69 [==============================] - 67s 968ms/step - loss: 0.3108 - acc: 0.8958 - val_loss: 0.2805 - val_acc: 0.9076\n",
            "\n",
            "Epoch 00037: val_loss improved from 0.31081 to 0.28046, saving model to /content/res_aug.h5\n",
            "Epoch 38/100\n",
            "69/69 [==============================] - 66s 962ms/step - loss: 0.3221 - acc: 0.8868 - val_loss: 0.2682 - val_acc: 0.9076\n",
            "\n",
            "Epoch 00038: val_loss improved from 0.28046 to 0.26822, saving model to /content/res_aug.h5\n",
            "Epoch 39/100\n",
            "69/69 [==============================] - 66s 961ms/step - loss: 0.2720 - acc: 0.8934 - val_loss: 0.2926 - val_acc: 0.9076\n",
            "\n",
            "Epoch 00039: ReduceLROnPlateau reducing learning rate to 0.0001250000059371814.\n",
            "\n",
            "Epoch 00039: val_loss did not improve from 0.26822\n",
            "Epoch 40/100\n",
            "69/69 [==============================] - 66s 958ms/step - loss: 0.2694 - acc: 0.8972 - val_loss: 0.2817 - val_acc: 0.9076\n",
            "\n",
            "Epoch 00040: val_loss did not improve from 0.26822\n",
            "Epoch 41/100\n",
            "69/69 [==============================] - 66s 955ms/step - loss: 0.2710 - acc: 0.8990 - val_loss: 0.2646 - val_acc: 0.9157\n",
            "\n",
            "Epoch 00041: val_loss improved from 0.26822 to 0.26464, saving model to /content/res_aug.h5\n",
            "Epoch 42/100\n",
            "69/69 [==============================] - 66s 954ms/step - loss: 0.2616 - acc: 0.9058 - val_loss: 0.2707 - val_acc: 0.9157\n",
            "\n",
            "Epoch 00042: val_loss did not improve from 0.26464\n",
            "Epoch 43/100\n",
            "69/69 [==============================] - 66s 952ms/step - loss: 0.2651 - acc: 0.9053 - val_loss: 0.2616 - val_acc: 0.9157\n",
            "\n",
            "Epoch 00043: val_loss improved from 0.26464 to 0.26162, saving model to /content/res_aug.h5\n",
            "Epoch 44/100\n",
            "69/69 [==============================] - 66s 950ms/step - loss: 0.2337 - acc: 0.9112 - val_loss: 0.2616 - val_acc: 0.9116\n",
            "\n",
            "Epoch 00044: ReduceLROnPlateau reducing learning rate to 6.25000029685907e-05.\n",
            "\n",
            "Epoch 00044: val_loss improved from 0.26162 to 0.26158, saving model to /content/res_aug.h5\n",
            "Epoch 45/100\n",
            "69/69 [==============================] - 66s 951ms/step - loss: 0.2414 - acc: 0.9153 - val_loss: 0.2554 - val_acc: 0.9157\n",
            "\n",
            "Epoch 00045: val_loss improved from 0.26158 to 0.25539, saving model to /content/res_aug.h5\n",
            "Epoch 46/100\n",
            "69/69 [==============================] - 66s 951ms/step - loss: 0.2361 - acc: 0.9180 - val_loss: 0.2310 - val_acc: 0.9237\n",
            "\n",
            "Epoch 00046: val_loss improved from 0.25539 to 0.23097, saving model to /content/res_aug.h5\n",
            "Epoch 47/100\n",
            "69/69 [==============================] - 66s 951ms/step - loss: 0.2199 - acc: 0.9153 - val_loss: 0.2514 - val_acc: 0.9076\n",
            "\n",
            "Epoch 00047: val_loss did not improve from 0.23097\n",
            "Epoch 48/100\n",
            "69/69 [==============================] - 66s 953ms/step - loss: 0.2378 - acc: 0.9153 - val_loss: 0.2375 - val_acc: 0.9277\n",
            "\n",
            "Epoch 00048: val_loss did not improve from 0.23097\n",
            "Epoch 49/100\n",
            "69/69 [==============================] - 65s 949ms/step - loss: 0.2330 - acc: 0.9189 - val_loss: 0.2249 - val_acc: 0.9157\n",
            "\n",
            "Epoch 00049: val_loss improved from 0.23097 to 0.22490, saving model to /content/res_aug.h5\n",
            "Epoch 50/100\n",
            "69/69 [==============================] - 66s 952ms/step - loss: 0.2311 - acc: 0.9207 - val_loss: 0.2432 - val_acc: 0.9237\n",
            "\n",
            "Epoch 00050: val_loss did not improve from 0.22490\n",
            "Epoch 51/100\n",
            "69/69 [==============================] - 66s 954ms/step - loss: 0.2225 - acc: 0.9230 - val_loss: 0.2357 - val_acc: 0.9116\n",
            "\n",
            "Epoch 00051: ReduceLROnPlateau reducing learning rate to 3.125000148429535e-05.\n",
            "\n",
            "Epoch 00051: val_loss did not improve from 0.22490\n",
            "Epoch 52/100\n",
            "69/69 [==============================] - 66s 952ms/step - loss: 0.2197 - acc: 0.9225 - val_loss: 0.2291 - val_acc: 0.9197\n",
            "\n",
            "Epoch 00052: val_loss did not improve from 0.22490\n",
            "Epoch 53/100\n",
            "69/69 [==============================] - 66s 953ms/step - loss: 0.2270 - acc: 0.9235 - val_loss: 0.2339 - val_acc: 0.9157\n",
            "\n",
            "Epoch 00053: val_loss did not improve from 0.22490\n",
            "Epoch 54/100\n",
            "69/69 [==============================] - 66s 952ms/step - loss: 0.1883 - acc: 0.9320 - val_loss: 0.2392 - val_acc: 0.9157\n",
            "\n",
            "Epoch 00054: ReduceLROnPlateau reducing learning rate to 1.5625000742147677e-05.\n",
            "\n",
            "Epoch 00054: val_loss did not improve from 0.22490\n",
            "Epoch 55/100\n",
            "69/69 [==============================] - 66s 951ms/step - loss: 0.2095 - acc: 0.9265 - val_loss: 0.2339 - val_acc: 0.9197\n",
            "\n",
            "Epoch 00055: val_loss did not improve from 0.22490\n",
            "Epoch 56/100\n",
            "69/69 [==============================] - 66s 951ms/step - loss: 0.1875 - acc: 0.9321 - val_loss: 0.2334 - val_acc: 0.9157\n",
            "\n",
            "Epoch 00056: val_loss did not improve from 0.22490\n",
            "Epoch 57/100\n",
            "69/69 [==============================] - 66s 952ms/step - loss: 0.2122 - acc: 0.9252 - val_loss: 0.2303 - val_acc: 0.9197\n",
            "\n",
            "Epoch 00057: ReduceLROnPlateau reducing learning rate to 7.812500371073838e-06.\n",
            "\n",
            "Epoch 00057: val_loss did not improve from 0.22490\n",
            "Epoch 58/100\n",
            "69/69 [==============================] - 66s 950ms/step - loss: 0.1986 - acc: 0.9357 - val_loss: 0.2290 - val_acc: 0.9157\n",
            "\n",
            "Epoch 00058: val_loss did not improve from 0.22490\n",
            "Epoch 59/100\n",
            "69/69 [==============================] - 66s 950ms/step - loss: 0.2140 - acc: 0.9176 - val_loss: 0.2304 - val_acc: 0.9157\n",
            "\n",
            "Epoch 00059: val_loss did not improve from 0.22490\n",
            "Epoch 60/100\n",
            "69/69 [==============================] - 66s 950ms/step - loss: 0.2085 - acc: 0.9279 - val_loss: 0.2324 - val_acc: 0.9157\n",
            "\n",
            "Epoch 00060: ReduceLROnPlateau reducing learning rate to 3.906250185536919e-06.\n",
            "\n",
            "Epoch 00060: val_loss did not improve from 0.22490\n",
            "Epoch 61/100\n",
            "69/69 [==============================] - 66s 951ms/step - loss: 0.1969 - acc: 0.9312 - val_loss: 0.2306 - val_acc: 0.9157\n",
            "\n",
            "Epoch 00061: val_loss did not improve from 0.22490\n",
            "Epoch 62/100\n",
            "69/69 [==============================] - 66s 963ms/step - loss: 0.2177 - acc: 0.9252 - val_loss: 0.2295 - val_acc: 0.9197\n",
            "\n",
            "Epoch 00062: val_loss did not improve from 0.22490\n",
            "Epoch 63/100\n",
            "69/69 [==============================] - 66s 955ms/step - loss: 0.1993 - acc: 0.9284 - val_loss: 0.2275 - val_acc: 0.9157\n",
            "\n",
            "Epoch 00063: ReduceLROnPlateau reducing learning rate to 1.9531250927684596e-06.\n",
            "\n",
            "Epoch 00063: val_loss did not improve from 0.22490\n",
            "Epoch 64/100\n",
            "69/69 [==============================] - 66s 957ms/step - loss: 0.2019 - acc: 0.9230 - val_loss: 0.2262 - val_acc: 0.9157\n",
            "\n",
            "Epoch 00064: val_loss did not improve from 0.22490\n",
            "Epoch 65/100\n",
            "69/69 [==============================] - 66s 961ms/step - loss: 0.2083 - acc: 0.9225 - val_loss: 0.2248 - val_acc: 0.9157\n",
            "\n",
            "Epoch 00065: val_loss improved from 0.22490 to 0.22484, saving model to /content/res_aug.h5\n",
            "Epoch 66/100\n",
            "69/69 [==============================] - 66s 956ms/step - loss: 0.2090 - acc: 0.9275 - val_loss: 0.2255 - val_acc: 0.9157\n",
            "\n",
            "Epoch 00066: ReduceLROnPlateau reducing learning rate to 9.765625463842298e-07.\n",
            "\n",
            "Epoch 00066: val_loss did not improve from 0.22484\n",
            "Epoch 67/100\n",
            "69/69 [==============================] - 66s 959ms/step - loss: 0.2137 - acc: 0.9252 - val_loss: 0.2255 - val_acc: 0.9157\n",
            "\n",
            "Epoch 00067: val_loss did not improve from 0.22484\n",
            "Epoch 68/100\n",
            "69/69 [==============================] - 66s 956ms/step - loss: 0.2113 - acc: 0.9194 - val_loss: 0.2256 - val_acc: 0.9157\n",
            "\n",
            "Epoch 00068: val_loss did not improve from 0.22484\n",
            "Epoch 69/100\n",
            "69/69 [==============================] - 66s 957ms/step - loss: 0.2179 - acc: 0.9280 - val_loss: 0.2254 - val_acc: 0.9157\n",
            "\n",
            "Epoch 00069: ReduceLROnPlateau reducing learning rate to 4.882812731921149e-07.\n",
            "\n",
            "Epoch 00069: val_loss did not improve from 0.22484\n",
            "Epoch 70/100\n",
            "69/69 [==============================] - 66s 958ms/step - loss: 0.2018 - acc: 0.9243 - val_loss: 0.2255 - val_acc: 0.9157\n",
            "\n",
            "Epoch 00070: val_loss did not improve from 0.22484\n",
            "Epoch 71/100\n",
            "69/69 [==============================] - 65s 949ms/step - loss: 0.2015 - acc: 0.9293 - val_loss: 0.2255 - val_acc: 0.9157\n",
            "\n",
            "Epoch 00071: val_loss did not improve from 0.22484\n",
            "Epoch 72/100\n",
            "69/69 [==============================] - 66s 955ms/step - loss: 0.2028 - acc: 0.9279 - val_loss: 0.2253 - val_acc: 0.9157\n",
            "\n",
            "Epoch 00072: ReduceLROnPlateau reducing learning rate to 2.4414063659605745e-07.\n",
            "\n",
            "Epoch 00072: val_loss did not improve from 0.22484\n",
            "Epoch 73/100\n",
            "69/69 [==============================] - 66s 954ms/step - loss: 0.2111 - acc: 0.9257 - val_loss: 0.2253 - val_acc: 0.9157\n",
            "\n",
            "Epoch 00073: val_loss did not improve from 0.22484\n",
            "Epoch 74/100\n",
            "69/69 [==============================] - 66s 956ms/step - loss: 0.2146 - acc: 0.9225 - val_loss: 0.2251 - val_acc: 0.9157\n",
            "\n",
            "Epoch 00074: val_loss did not improve from 0.22484\n",
            "Epoch 75/100\n",
            "69/69 [==============================] - 66s 957ms/step - loss: 0.2150 - acc: 0.9252 - val_loss: 0.2251 - val_acc: 0.9157\n",
            "\n",
            "Epoch 00075: ReduceLROnPlateau reducing learning rate to 1.2207031829802872e-07.\n",
            "\n",
            "Epoch 00075: val_loss did not improve from 0.22484\n",
            "Epoch 76/100\n",
            "69/69 [==============================] - 66s 959ms/step - loss: 0.1986 - acc: 0.9284 - val_loss: 0.2251 - val_acc: 0.9157\n",
            "\n",
            "Epoch 00076: val_loss did not improve from 0.22484\n",
            "Epoch 77/100\n",
            "69/69 [==============================] - 66s 955ms/step - loss: 0.1951 - acc: 0.9311 - val_loss: 0.2251 - val_acc: 0.9157\n",
            "\n",
            "Epoch 00077: val_loss did not improve from 0.22484\n",
            "Epoch 78/100\n",
            "69/69 [==============================] - 66s 953ms/step - loss: 0.2222 - acc: 0.9207 - val_loss: 0.2250 - val_acc: 0.9157\n",
            "\n",
            "Epoch 00078: ReduceLROnPlateau reducing learning rate to 1e-07.\n",
            "\n",
            "Epoch 00078: val_loss did not improve from 0.22484\n",
            "Epoch 79/100\n",
            "69/69 [==============================] - 67s 972ms/step - loss: 0.1973 - acc: 0.9312 - val_loss: 0.2250 - val_acc: 0.9157\n",
            "\n",
            "Epoch 00079: val_loss did not improve from 0.22484\n",
            "Epoch 80/100\n",
            "69/69 [==============================] - 66s 950ms/step - loss: 0.2025 - acc: 0.9315 - val_loss: 0.2250 - val_acc: 0.9157\n",
            "\n",
            "Epoch 00080: val_loss did not improve from 0.22484\n",
            "Epoch 81/100\n",
            "69/69 [==============================] - 65s 948ms/step - loss: 0.2017 - acc: 0.9266 - val_loss: 0.2250 - val_acc: 0.9157\n",
            "\n",
            "Epoch 00081: ReduceLROnPlateau reducing learning rate to 1e-07.\n",
            "\n",
            "Epoch 00081: val_loss did not improve from 0.22484\n",
            "Epoch 82/100\n",
            "69/69 [==============================] - 66s 953ms/step - loss: 0.2014 - acc: 0.9284 - val_loss: 0.2251 - val_acc: 0.9157\n",
            "\n",
            "Epoch 00082: val_loss did not improve from 0.22484\n",
            "Epoch 83/100\n",
            "69/69 [==============================] - 66s 954ms/step - loss: 0.1941 - acc: 0.9297 - val_loss: 0.2251 - val_acc: 0.9157\n",
            "\n",
            "Epoch 00083: val_loss did not improve from 0.22484\n",
            "Epoch 84/100\n",
            "69/69 [==============================] - 66s 954ms/step - loss: 0.2102 - acc: 0.9289 - val_loss: 0.2252 - val_acc: 0.9157\n",
            "\n",
            "Epoch 00084: ReduceLROnPlateau reducing learning rate to 1e-07.\n",
            "\n",
            "Epoch 00084: val_loss did not improve from 0.22484\n",
            "Epoch 85/100\n",
            "69/69 [==============================] - 66s 955ms/step - loss: 0.2034 - acc: 0.9289 - val_loss: 0.2252 - val_acc: 0.9157\n",
            "\n",
            "Epoch 00085: val_loss did not improve from 0.22484\n",
            "Epoch 86/100\n",
            "69/69 [==============================] - 66s 954ms/step - loss: 0.2071 - acc: 0.9256 - val_loss: 0.2252 - val_acc: 0.9157\n",
            "\n",
            "Epoch 00086: val_loss did not improve from 0.22484\n",
            "Epoch 87/100\n",
            "69/69 [==============================] - 66s 954ms/step - loss: 0.2301 - acc: 0.9234 - val_loss: 0.2253 - val_acc: 0.9157\n",
            "\n",
            "Epoch 00087: ReduceLROnPlateau reducing learning rate to 1e-07.\n",
            "\n",
            "Epoch 00087: val_loss did not improve from 0.22484\n",
            "Epoch 88/100\n",
            "69/69 [==============================] - 66s 954ms/step - loss: 0.2085 - acc: 0.9257 - val_loss: 0.2252 - val_acc: 0.9157\n",
            "\n",
            "Epoch 00088: val_loss did not improve from 0.22484\n",
            "Epoch 89/100\n",
            "69/69 [==============================] - 66s 956ms/step - loss: 0.1910 - acc: 0.9311 - val_loss: 0.2252 - val_acc: 0.9157\n",
            "\n",
            "Epoch 00089: val_loss did not improve from 0.22484\n",
            "Epoch 90/100\n",
            "69/69 [==============================] - 66s 957ms/step - loss: 0.2110 - acc: 0.9238 - val_loss: 0.2252 - val_acc: 0.9157\n",
            "\n",
            "Epoch 00090: ReduceLROnPlateau reducing learning rate to 1e-07.\n",
            "\n",
            "Epoch 00090: val_loss did not improve from 0.22484\n",
            "Epoch 91/100\n",
            "69/69 [==============================] - 66s 957ms/step - loss: 0.1945 - acc: 0.9293 - val_loss: 0.2252 - val_acc: 0.9157\n",
            "\n",
            "Epoch 00091: val_loss did not improve from 0.22484\n",
            "Epoch 92/100\n",
            "69/69 [==============================] - 66s 955ms/step - loss: 0.2213 - acc: 0.9252 - val_loss: 0.2251 - val_acc: 0.9157\n",
            "\n",
            "Epoch 00092: val_loss did not improve from 0.22484\n",
            "Epoch 93/100\n",
            "69/69 [==============================] - 67s 970ms/step - loss: 0.1939 - acc: 0.9320 - val_loss: 0.2252 - val_acc: 0.9157\n",
            "\n",
            "Epoch 00093: ReduceLROnPlateau reducing learning rate to 1e-07.\n",
            "\n",
            "Epoch 00093: val_loss did not improve from 0.22484\n",
            "Epoch 94/100\n",
            "69/69 [==============================] - 66s 957ms/step - loss: 0.2081 - acc: 0.9307 - val_loss: 0.2251 - val_acc: 0.9157\n",
            "\n",
            "Epoch 00094: val_loss did not improve from 0.22484\n",
            "Epoch 95/100\n",
            "69/69 [==============================] - 66s 957ms/step - loss: 0.1978 - acc: 0.9288 - val_loss: 0.2251 - val_acc: 0.9157\n",
            "\n",
            "Epoch 00095: val_loss did not improve from 0.22484\n",
            "Epoch 96/100\n",
            "69/69 [==============================] - 66s 954ms/step - loss: 0.1863 - acc: 0.9307 - val_loss: 0.2251 - val_acc: 0.9157\n",
            "\n",
            "Epoch 00096: ReduceLROnPlateau reducing learning rate to 1e-07.\n",
            "\n",
            "Epoch 00096: val_loss did not improve from 0.22484\n",
            "Epoch 97/100\n",
            "69/69 [==============================] - 66s 957ms/step - loss: 0.2133 - acc: 0.9248 - val_loss: 0.2251 - val_acc: 0.9157\n",
            "\n",
            "Epoch 00097: val_loss did not improve from 0.22484\n",
            "Epoch 98/100\n",
            "69/69 [==============================] - 66s 958ms/step - loss: 0.1815 - acc: 0.9415 - val_loss: 0.2250 - val_acc: 0.9157\n",
            "\n",
            "Epoch 00098: val_loss did not improve from 0.22484\n",
            "Epoch 99/100\n",
            "69/69 [==============================] - 66s 958ms/step - loss: 0.2261 - acc: 0.9175 - val_loss: 0.2250 - val_acc: 0.9157\n",
            "\n",
            "Epoch 00099: ReduceLROnPlateau reducing learning rate to 1e-07.\n",
            "\n",
            "Epoch 00099: val_loss did not improve from 0.22484\n",
            "Epoch 100/100\n",
            "69/69 [==============================] - 66s 960ms/step - loss: 0.2099 - acc: 0.9289 - val_loss: 0.2250 - val_acc: 0.9157\n",
            "\n",
            "Epoch 00100: val_loss did not improve from 0.22484\n"
          ],
          "name": "stdout"
        }
      ]
    },
    {
      "cell_type": "code",
      "metadata": {
        "id": "rtr71Jbpkeo1",
        "colab_type": "code",
        "colab": {
          "base_uri": "https://localhost:8080/",
          "height": 573
        },
        "outputId": "5237062e-0067-4208-e9e4-4553798bf657"
      },
      "source": [
        "import matplotlib.pyplot as plt\n",
        "#plt.subplots(2,1)\n",
        "#plt.subplot(1, 2, 1)\n",
        "plt.plot(history.history['acc'])\n",
        "plt.plot(history.history['val_acc'])\n",
        "plt.ylabel(\"Accuracy\")\n",
        "plt.xlabel(\"Epoch\")\n",
        "plt.title(\"Model accuracy\")\n",
        "plt.legend(['train', 'test'], loc='upper left')\n",
        "plt.show()\n",
        "\n",
        "#plt.subplot(1, 2, 2)\n",
        "plt.plot(history.history['loss'])\n",
        "plt.plot(history.history['val_loss'])\n",
        "plt.title('model loss')\n",
        "plt.ylabel('loss')\n",
        "plt.xlabel('epoch')\n",
        "plt.legend(['train', 'test'], loc='upper left')\n",
        "\n",
        "plt.show()"
      ],
      "execution_count": 18,
      "outputs": [
        {
          "output_type": "display_data",
          "data": {
            "image/png": "[encoded data removed]",
            "text/plain": [
              "<Figure size 432x288 with 1 Axes>"
            ]
          },
          "metadata": {
            "tags": []
          }
        },
        {
          "output_type": "display_data",
          "data": {
            "image/png": "[encoded data removed]",
            "text/plain": [
              "<Figure size 432x288 with 1 Axes>"
            ]
          },
          "metadata": {
            "tags": []
          }
        }
      ]
    },
    {
      "cell_type": "code",
      "metadata": {
        "id": "c4vYd6e0szBu",
        "colab_type": "code",
        "colab": {}
      },
      "source": [
        "from keras.models import load_model\n",
        "net = load_model(\"/content/res_aug.h5\")\n",
        "\n",
        "predictions = net.predict(xtest)\n",
        "temp = predictions\n",
        "predictions = np.argmax(predictions, axis = 1)"
      ],
      "execution_count": 0,
      "outputs": []
    },
    {
      "cell_type": "code",
      "metadata": {
        "id": "C9PpTuzqtlaS",
        "colab_type": "code",
        "colab": {
          "base_uri": "https://localhost:8080/",
          "height": 204
        },
        "outputId": "27c01683-83db-4c15-aedb-11472104a43f"
      },
      "source": [
        "sam_sub[\"healthy\"].values[:] = 0\n",
        "sam_sub[\"multiple_diseases\"].values[:] = 0\n",
        "sam_sub[\"rust\"].values[:] = 0\n",
        "sam_sub[\"scab\"].values[:] = 0\n",
        "\n",
        "for i in range(len(predictions)):\n",
        "  if predictions[i] == 0:\n",
        "    sam_sub[\"scab\"].values[i] = 1\n",
        "  elif predictions[i] == 1:\n",
        "    sam_sub[\"multiple_diseases\"].values[i] = 1\n",
        "  elif predictions[i] == 2:\n",
        "    sam_sub[\"healthy\"].values[i] = 1\n",
        "  elif predictions[i] == 3:\n",
        "    sam_sub[\"rust\"].values[i] = 1\n",
        "\n",
        "sam_sub.head()"
      ],
      "execution_count": 20,
      "outputs": [
        {
          "output_type": "execute_result",
          "data": {
            "text/html": [
              "<div>\n",
              "<style scoped>\n",
              "    .dataframe tbody tr th:only-of-type {\n",
              "        vertical-align: middle;\n",
              "    }\n",
              "\n",
              "    .dataframe tbody tr th {\n",
              "        vertical-align: top;\n",
              "    }\n",
              "\n",
              "    .dataframe thead th {\n",
              "        text-align: right;\n",
              "    }\n",
              "</style>\n",
              "<table border=\"1\" class=\"dataframe\">\n",
              "  <thead>\n",
              "    <tr style=\"text-align: right;\">\n",
              "      <th></th>\n",
              "      <th>image_id</th>\n",
              "      <th>healthy</th>\n",
              "      <th>multiple_diseases</th>\n",
              "      <th>rust</th>\n",
              "      <th>scab</th>\n",
              "    </tr>\n",
              "  </thead>\n",
              "  <tbody>\n",
              "    <tr>\n",
              "      <th>0</th>\n",
              "      <td>Test_0</td>\n",
              "      <td>0.0</td>\n",
              "      <td>0.0</td>\n",
              "      <td>1.0</td>\n",
              "      <td>0.0</td>\n",
              "    </tr>\n",
              "    <tr>\n",
              "      <th>1</th>\n",
              "      <td>Test_1</td>\n",
              "      <td>0.0</td>\n",
              "      <td>0.0</td>\n",
              "      <td>1.0</td>\n",
              "      <td>0.0</td>\n",
              "    </tr>\n",
              "    <tr>\n",
              "      <th>2</th>\n",
              "      <td>Test_2</td>\n",
              "      <td>0.0</td>\n",
              "      <td>0.0</td>\n",
              "      <td>0.0</td>\n",
              "      <td>1.0</td>\n",
              "    </tr>\n",
              "    <tr>\n",
              "      <th>3</th>\n",
              "      <td>Test_3</td>\n",
              "      <td>1.0</td>\n",
              "      <td>0.0</td>\n",
              "      <td>0.0</td>\n",
              "      <td>0.0</td>\n",
              "    </tr>\n",
              "    <tr>\n",
              "      <th>4</th>\n",
              "      <td>Test_4</td>\n",
              "      <td>0.0</td>\n",
              "      <td>0.0</td>\n",
              "      <td>1.0</td>\n",
              "      <td>0.0</td>\n",
              "    </tr>\n",
              "  </tbody>\n",
              "</table>\n",
              "</div>"
            ],
            "text/plain": [
              "  image_id  healthy  multiple_diseases  rust  scab\n",
              "0   Test_0      0.0                0.0   1.0   0.0\n",
              "1   Test_1      0.0                0.0   1.0   0.0\n",
              "2   Test_2      0.0                0.0   0.0   1.0\n",
              "3   Test_3      1.0                0.0   0.0   0.0\n",
              "4   Test_4      0.0                0.0   1.0   0.0"
            ]
          },
          "metadata": {
            "tags": []
          },
          "execution_count": 20
        }
      ]
    },
    {
      "cell_type": "code",
      "metadata": {
        "id": "Z7DB5cm533vO",
        "colab_type": "code",
        "colab": {}
      },
      "source": [
        "sam_sub.to_csv(\"/content/res_aug.csv\", index = False)"
      ],
      "execution_count": 0,
      "outputs": []
    }
  ]
}