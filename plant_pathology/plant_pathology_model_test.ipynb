{
  "nbformat": 4,
  "nbformat_minor": 0,
  "metadata": {
    "colab": {
      "name": "plant_pathology_model_test.ipynb",
      "provenance": []
    },
    "kernelspec": {
      "name": "python3",
      "display_name": "Python 3"
    }
  },
  "cells": [
    {
      "cell_type": "code",
      "metadata": {
        "id": "CTcMw5LR_1cf",
        "colab_type": "code",
        "colab": {
          "base_uri": "https://localhost:8080/",
          "height": 54
        },
        "outputId": "ef4951fe-a645-4585-ed45-dc136cb252c0"
      },
      "source": [
        "from google.colab import drive\n",
        "drive.mount(\"/content/drive\")\n",
        "import os\n",
        "os.chdir(\"/content/drive/My Drive/plant_pathology_kaggle\")\n",
        "import cv2\n",
        "from keras.models import load_model\n",
        "import numpy as np\n",
        "import pandas as pd\n",
        "\n",
        "sam_sub = pd.read_csv('sample_submission.csv')\n",
        "#train_csv = pd.read_csv('train.csv')\n",
        "test_csv = pd.read_csv('test.csv')\n",
        "\n",
        "path = '/content/drive/My Drive/plant_pathology_kaggle/images/'\n",
        "image_list = os.listdir(path)\n",
        "\n",
        "test_images = test_csv[\"image_id\"]\n",
        "test_images = np.asarray(test_images) + \".jpg\"\n",
        "\n",
        "image_height = 150\n",
        "image_width = 150\n",
        "channels = 3\n",
        "\n",
        "xtest = np.zeros((len(test_images), image_height, image_width, channels))\n",
        "\n",
        "for i in range(len(test_images)):\n",
        "  imgtest = test_images[i]\n",
        "  img = cv2.imread('/content/drive/My Drive/plant_pathology_kaggle/images/'+imgtest)\n",
        "  img = cv2.cvtColor(img, cv2.COLOR_BGR2RGB)\n",
        "  img = cv2.resize(img, (image_height, image_width))\n",
        "  xtest[i] = img\n",
        "\n",
        "xtest /= 255"
      ],
      "execution_count": 3,
      "outputs": [
        {
          "output_type": "stream",
          "text": [
            "Drive already mounted at /content/drive; to attempt to forcibly remount, call drive.mount(\"/content/drive\", force_remount=True).\n"
          ],
          "name": "stdout"
        }
      ]
    },
    {
      "cell_type": "code",
      "metadata": {
        "id": "7-H6FAVhCXiU",
        "colab_type": "code",
        "colab": {}
      },
      "source": [
        "net1 = load_model(\"/content/aug_train.h5\")\n",
        "net2 = load_model(\"/content/res_aug.h5\")\n",
        "\n",
        "p1 = net1.predict(xtest)\n",
        "p2 = net2.predict(xtest)\n",
        "\n",
        "predictions = (p1+p2)/2.0"
      ],
      "execution_count": 0,
      "outputs": []
    },
    {
      "cell_type": "code",
      "metadata": {
        "id": "hgSdIdayA2da",
        "colab_type": "code",
        "colab": {}
      },
      "source": [
        "sam_sub[\"healthy\"].values[:] = 0\n",
        "sam_sub[\"multiple_diseases\"].values[:] = 0\n",
        "sam_sub[\"rust\"].values[:] = 0\n",
        "sam_sub[\"scab\"].values[:] = 0\n",
        "\n",
        "for i in range(len(predictions)):\n",
        "  sam_sub[\"scab\"].values[i] = predictions[i, 0]\n",
        "  sam_sub[\"multiple_diseases\"].values[i] = predictions[i, 1]\n",
        "  sam_sub[\"healthy\"].values[i] = predictions[i, 2]\n",
        "  sam_sub[\"rust\"].values[i] = predictions[i, 3]\n",
        "\n",
        "sam_sub.to_csv(\"/content/mixed.csv\", index = False)"
      ],
      "execution_count": 0,
      "outputs": []
    }
  ]
}